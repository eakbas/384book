{
 "cells": [
  {
   "cell_type": "markdown",
   "metadata": {},
   "source": [
    "# Duality of convolution and multiplication.\n",
    "\n",
    "We will go over an example to illustrate the duality of convolution and\n",
    "multiplication. \n",
    "\n",
    "Suppose we are given two continuous time periodic signals $x(t)= \\sin(4\\pi t)$\n",
    "and $y(t) = \\cos(4\\pi t)$, with\n",
    "$a_k$ and $b_k$ being their spectral coefficients, respectively: \n",
    "\n",
    "$$ x(t) \\overset{F.S.}{\\longleftrightarrow} a_k$$\n",
    "\n",
    "$$ y(t) \\overset{F.S.}{\\longleftrightarrow} b_k$$\n",
    "\n",
    "Compute the spectral coefficients of $z(t) = x(t)y(t)$. \n",
    "\n",
    "Here we will use the duality of convolution and multiplication to find out the\n",
    "spectral coefficients of $z(t)$. "
   ]
  },
  {
   "cell_type": "code",
   "execution_count": null,
   "metadata": {},
   "outputs": [],
   "source": [
    "import sympy as sym\n",
    "from sympy import I # the imaginary number \"j\" is represented as \"I\" in SymPy\n",
    "t, tau = sym.symbols('t tau', real=True)\n",
    "x = sym.cos(4*sym.pi*t)\n",
    "y = sym.sin(4*sym.pi*t)\n",
    "\n",
    "T=1/2\n",
    "omega0 = 4*sym.pi"
   ]
  },
  {
   "cell_type": "markdown",
   "metadata": {},
   "source": [
    "Let's first find the coefficient of $x(t)$ and $y(t)$. Here are $x(t)$'s coefficients: "
   ]
  },
  {
   "cell_type": "code",
   "execution_count": null,
   "metadata": {},
   "outputs": [],
   "source": [
    "# let's write a function to compute the kth spectral coefficient\n",
    "def compute_ak(x, T, omega0, k): \n",
    "    ak = (1/T)*sym.integrate(x*sym.exp(-I*omega0*k*t), (t, 0, T))\n",
    "    return ak\n",
    "\n",
    "a = []\n",
    "for k in range(-5,6,1):\n",
    "    ak = compute_ak(x, T, omega0, k)\n",
    "    ak = sym.simplify(ak, rational=True) # Note: the \".simplify(rational=True)\" \n",
    "            # simplifies the expression, without it the output looks \n",
    "            # very strange  ¯\\_(ツ)_/¯  \n",
    "    a.append(ak)\n",
    "    print('a_{0}={1}'.format(k, ak))\n",
    "    "
   ]
  },
  {
   "cell_type": "markdown",
   "metadata": {},
   "source": [
    "And $y(t)$'s coefficients: "
   ]
  },
  {
   "cell_type": "code",
   "execution_count": null,
   "metadata": {},
   "outputs": [],
   "source": [
    "b = []\n",
    "for k in range(-5,6,1):\n",
    "    ak = compute_ak(y, T, omega0, k)\n",
    "    ak = sym.simplify(ak, rational=True)\n",
    "    b.append(ak)\n",
    "    print('b_{0}={1}'.format(k, ak))"
   ]
  },
  {
   "cell_type": "markdown",
   "metadata": {},
   "source": [
    "Now we need to convolve $a_k$ and $b_k$ to find the answer: "
   ]
  },
  {
   "cell_type": "code",
   "execution_count": null,
   "metadata": {},
   "outputs": [],
   "source": [
    "import numpy as np\n",
    "a = np.array(a)\n",
    "b = np.array(b)\n",
    "\n",
    "c = np.convolve(a,b, mode='same')\n",
    "print(c)"
   ]
  },
  {
   "cell_type": "markdown",
   "metadata": {},
   "source": [
    "The answer indicates that $c_{-2} = \\frac{j}{2}$ and $c_{2} = \\frac{-j}{2}$. You\n",
    "can verify this by directly evaluating the analysis equation on $z(t)$ (as\n",
    "descibed in [0601](in0601)). We leave this as an exercise for the reader. "
   ]
  },
  {
   "cell_type": "markdown",
   "metadata": {},
   "source": [
    "---\n",
    "Related content: \n",
    "\n",
    "[Explore Fourier series representation for continuous time periodic signals.](in0601)\n",
    "\n",
    "[Explore the Gibbs phenomenon.](in0602)\n",
    "\n",
    "[Explore trigonometric waveforms.](in0604)"
   ]
  }
 ],
 "metadata": {
  "kernelspec": {
   "display_name": "Python 3",
   "language": "python",
   "name": "python3"
  },
  "language_info": {
   "codemirror_mode": {
    "name": "ipython",
    "version": 3
   },
   "file_extension": ".py",
   "mimetype": "text/x-python",
   "name": "python",
   "nbconvert_exporter": "python",
   "pygments_lexer": "ipython3",
   "version": "3.9.18"
  }
 },
 "nbformat": 4,
 "nbformat_minor": 2
}
