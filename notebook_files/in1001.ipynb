{
 "cells": [
  {
   "cell_type": "markdown",
   "metadata": {},
   "source": [
    "# Filtering with low, band and high-pass filters\n",
    "\n",
    "In this notebook, we will create ideal low-pass, high-pass and band-pass\n",
    "filters, and apply them to a signal to study their effects. \n",
    "\n",
    "Let us first create a signal with multiple frequency components. For example, a\n",
    "continuous time signal with three different frequencies combined: \n",
    "\n",
    "$$\n",
    "x(t) = \\cos(0.1 t) + 0.5 \\cos(2 t) + 0.2\\cos(7 t). \n",
    "$$\n",
    "\n",
    "This signal has three different frequencies: a low frequency $\\omega_0=0.1$, a\n",
    "middle frequency $\\omega_0 = 2$ and a high frequency $\\omega_0 = 7$.  Note that\n",
    "there is no absolute criterion to name a frequency as low, mid or high. We use\n",
    "them relatively. \n",
    "\n",
    "Let us define this function in SymPy and plot it. "
   ]
  },
  {
   "cell_type": "code",
   "execution_count": null,
   "metadata": {},
   "outputs": [],
   "source": [
    "import sympy as sym\n",
    "    \n",
    "sym.init_printing()\n",
    "\n",
    "t = sym.symbols('t', real=True)\n",
    "\n",
    "x = sym.cos(0.1*t) + 0.5*sym.cos(2*t) + 0.2*sym.cos(7*t)\n",
    "\n",
    "sym.plot(x, (t,-10,10));"
   ]
  },
  {
   "cell_type": "markdown",
   "metadata": {},
   "source": [
    "What is the Fourier transform of this signal? We know that\n",
    "\n",
    "$$\n",
    "\\cos(\\omega_0 t) \\overset{F.T.}{\\longleftrightarrow} \\pi \\left( \\delta(\\omega-\\omega_0) +\n",
    "\\delta(\\omega+\\omega_0) \\right)\n",
    "$$\n",
    "\n",
    "Using the linearity property of Fourier transform, we can conclude that the\n",
    "Fourier transform of $x(t)$ is \n",
    "\n",
    "$$\n",
    "x(t) \\overset{F.T.}{\\longleftrightarrow} \\pi \\left( \\delta(\\omega-0.1) +\n",
    "\\delta(\\omega+0.1) + 0.5\\delta(\\omega-2) +\n",
    "0.5\\delta(\\omega+2) + 0.2\\delta(\\omega-7) +\n",
    "0.2\\delta(\\omega+7)\\right) \n",
    "$$\n",
    "\n",
    "We can validate this by computing the Fourier transform using SymPy as follows "
   ]
  },
  {
   "cell_type": "code",
   "execution_count": null,
   "metadata": {},
   "outputs": [],
   "source": [
    "from sympy import I # the imaginary number \"j\" is represented as \"I\" in SymPy\n",
    "omega = sym.symbols('omega', real=True)\n",
    "X = sym.integrate(x*sym.exp(-I*omega*t), (t, -sym.oo, sym.oo))\n",
    "sym.simplify(X)"
   ]
  },
  {
   "cell_type": "markdown",
   "metadata": {},
   "source": [
    "However, as you can see the output is not quite right. In fact, there is a known\n",
    "issue with SymPy about this at https://github.com/sympy/sympy/issues/2803. So,\n",
    "we write the Fourier transform of $x(t)$ manually: "
   ]
  },
  {
   "cell_type": "code",
   "execution_count": null,
   "metadata": {},
   "outputs": [],
   "source": [
    "X = sym.pi*(sym.DiracDelta(omega-0.1)+sym.DiracDelta(omega+0.1)+ \n",
    "            0.5*sym.DiracDelta(omega-2)+0.5*sym.DiracDelta(omega+2)+\n",
    "            0.2*sym.DiracDelta(omega-7)+0.2*sym.DiracDelta(omega+7) )\n",
    "X"
   ]
  },
  {
   "cell_type": "markdown",
   "metadata": {},
   "source": [
    "Next, we want to filter this signal with ideal low-pass, band-pass and high-pass\n",
    "filters. \n",
    "\n",
    "Let us create these filters. "
   ]
  },
  {
   "cell_type": "markdown",
   "metadata": {},
   "source": [
    "Ideal low-pass filter: "
   ]
  },
  {
   "cell_type": "code",
   "execution_count": null,
   "metadata": {},
   "outputs": [],
   "source": [
    "LP = sym.Heaviside(omega+1)-sym.Heaviside(omega-1)\n",
    "sym.plot(LP, (omega, -10,10 ));"
   ]
  },
  {
   "cell_type": "markdown",
   "metadata": {},
   "source": [
    "Ideal band-pass filter: "
   ]
  },
  {
   "cell_type": "code",
   "execution_count": null,
   "metadata": {},
   "outputs": [],
   "source": [
    "BP = sym.Heaviside(omega-1)-sym.Heaviside(omega-4) + sym.Heaviside(omega+4)-sym.Heaviside(omega+1)\n",
    "sym.plot(BP, (omega, -10,10 ));"
   ]
  },
  {
   "cell_type": "markdown",
   "metadata": {},
   "source": [
    "Ideal high-pass filter: "
   ]
  },
  {
   "cell_type": "code",
   "execution_count": null,
   "metadata": {},
   "outputs": [],
   "source": [
    "HP = -sym.Heaviside(omega+5)+sym.Heaviside(omega-5)+1\n",
    "sym.plot(HP, (omega, -10,10 ));"
   ]
  },
  {
   "cell_type": "markdown",
   "metadata": {},
   "source": [
    "Now let use apply the low-pass filter to $x(t)$. We can do this application in\n",
    "two ways: 1) convolve them in the time domain, or 2) multiply them in the\n",
    "frequency domain. Since we already have the frequency domain representations of\n",
    "both the signal and the filter, we will follow the second method. \n",
    "\n",
    "Let us apply the low-pass filter and do inverse Fourier transform on the result\n",
    "to obtain the time domain representation of the result: "
   ]
  },
  {
   "cell_type": "code",
   "execution_count": null,
   "metadata": {},
   "outputs": [],
   "source": [
    "y = (1/(2*sym.pi))*sym.integrate(X*LP*sym.exp(I*omega*t), (omega, -sym.oo, sym.oo))\n",
    "sym.simplify(y)"
   ]
  },
  {
   "cell_type": "markdown",
   "metadata": {},
   "source": [
    "Low-pass filtering gave use the low-frequency component of $x(t)$. \n",
    "\n",
    "Now let us apply the band-pass filter. "
   ]
  },
  {
   "cell_type": "code",
   "execution_count": null,
   "metadata": {},
   "outputs": [],
   "source": [
    "y = (1/(2*sym.pi))*sym.integrate(X*BP*sym.exp(I*omega*t), (omega, -sym.oo, sym.oo))\n",
    "sym.simplify(y)"
   ]
  },
  {
   "cell_type": "markdown",
   "metadata": {},
   "source": [
    "which correctly gave us the mid frequency component. \n",
    "\n",
    "And, high-pass filtering will yield the high-frequency component of $x(t)$: "
   ]
  },
  {
   "cell_type": "code",
   "execution_count": null,
   "metadata": {},
   "outputs": [],
   "source": [
    "y = (1/(2*sym.pi))*sym.integrate(X*HP*sym.exp(I*omega*t), (omega, -sym.oo, sym.oo))\n",
    "sym.simplify(y)"
   ]
  },
  {
   "cell_type": "markdown",
   "metadata": {},
   "source": [
    "In this notebook, we have seen a simple example of filtering. Our previous two\n",
    "notebooks also showcase filtering applications, [one of them on 1D signals](in0901) and\n",
    "[the other on 2D signals](in0902). "
   ]
  }
 ],
 "metadata": {
  "kernelspec": {
   "display_name": "Python 3",
   "language": "python",
   "name": "python3"
  },
  "language_info": {
   "codemirror_mode": {
    "name": "ipython",
    "version": 3
   },
   "file_extension": ".py",
   "mimetype": "text/x-python",
   "name": "python",
   "nbconvert_exporter": "python",
   "pygments_lexer": "ipython3",
   "version": "3.9.18"
  }
 },
 "nbformat": 4,
 "nbformat_minor": 2
}
