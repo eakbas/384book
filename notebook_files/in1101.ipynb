{
 "cells": [
  {
   "cell_type": "markdown",
   "metadata": {},
   "source": [
    "# Sampling and reconstruction of a continuous time signal\n",
    "\n",
    "In this notebook, we will explore how the impulse train sampling and\n",
    "reconstruction of a continuous time signal works. The sampling and\n",
    "reconstruction pipeline is illustrated below. \n",
    "\n",
    "```{image} ./impulse_train_sampling_and_reconstruction.png\n",
    ":width: 450px\n",
    ":align: center\n",
    "```\n",
    "\n",
    "Here $x(t)$ is the CT input signal to be sampled and reconstructed, and $x_r(t)$\n",
    "is the reconstruction result. $p(t)$ represents an impulse train and $x_p(t)$ is\n",
    "the samples of $x(t)$. $x_r(t)$ is obtained by low-pass filtering the sampled\n",
    "signal $x_p(t)$. The implementation of these steps, especially sampling a\n",
    "signal with a series of Dirac delta impulses that extend to minus and plus\n",
    "infinities and integrals involving such unlimited signals, is not\n",
    "straigthforward and one do not always get the expected results. However,\n",
    "fortunately, we can implement all these sampling and reconstruction steps while\n",
    "staying totally in time domain, as we explain below. "
   ]
  },
  {
   "cell_type": "markdown",
   "metadata": {},
   "source": [
    "## Sampling\n",
    "\n",
    "Sampling basically corresponds to multiplying $x(t)$ with $p(t)=\n",
    "\\sum_{n=-\\infty}^\\infty \\delta(t-nT)$:  \n",
    "\n",
    "$$\n",
    "x_p(t) = \\sum_{n=-\\infty}^\\infty x(nT) \\delta(t-nT),\n",
    "$$\n",
    "\n",
    "where $T$ is the sampling period. The sampling period $\\omega_s$ is related to\n",
    "$T$ as $\\omega_s = \\frac{2\\pi}{T}$.\n",
    "\n",
    "At the end of this process, we have sampled values $x(nT)$ for integer\n",
    "$n=-\\infty \\dots \\infty$, and the sampling period $T$, or equivalently, the\n",
    "sampling frequency $\\omega_s$. The original signal $x(t)$ can be reconstructed\n",
    "using these two information as shown in the following.  "
   ]
  },
  {
   "cell_type": "markdown",
   "metadata": {},
   "source": [
    "## Reconstruction\n",
    "\n",
    "The reconstructed signal, $x_r(t)$, is the result of convolving $x_p(t)$ with an\n",
    "ideal low-pass filter, whose impulse response is denoted with $h(t)$: \n",
    "\n",
    "$$\n",
    "\\begin{aligned}\n",
    "x_r(t) & = x_p(t)*h(t) = \\int_{-\\infty}^\\infty x_p(\\tau) h(t-\\tau) d\\tau \\\\\n",
    " & = \\int_{-\\infty}^\\infty \\sum_{n=-\\infty}^\\infty x(\\tau = nT) \\delta(t-\\tau)  h(t-\\tau) d\\tau\n",
    "\\end{aligned}.\n",
    "$$\n",
    "\n",
    "Remember the properties of the Dirac delta: it is non-zero only at $t=\\tau$ and its integral\n",
    "is equal to 1. Due to these properties, we have \n",
    "\n",
    "$$\n",
    "x_r(t) =  \\sum_{n=-\\infty}^\\infty x(nT) h(t-nT).\n",
    "$$\n",
    "\n",
    "The ideal low-pass filter for the reconstruction is \n",
    "\n",
    "$$\n",
    "H(j\\omega) = \\begin{cases}\n",
    "T, & |\\omega|< \\frac{\\omega_s}{2} \\\\\n",
    "0, & \\text{otherwise.}\n",
    "\\end{cases}\n",
    "$$\n",
    "\n",
    "We can find out the impulse response $h(t)$ of\n",
    "this filter using the Fourier transform table (Table 8.2): \n",
    "\n",
    "$$\n",
    "h(t) = \\frac{T \\sin(\\frac{\\omega_s}{2}t)}{\\pi t}, \n",
    "$$\n",
    "\n",
    "which is basically a sinc function scaled by the sampling period $T$. "
   ]
  },
  {
   "cell_type": "markdown",
   "metadata": {},
   "source": [
    "## An example\n",
    "\n",
    "Now let us apply the sampling and reconstruction process described above to a\n",
    "simple periodic cosine signal: $x(t) = \\cos(\\omega_0 t)$. "
   ]
  },
  {
   "cell_type": "code",
   "execution_count": null,
   "metadata": {},
   "outputs": [],
   "source": [
    "import sympy as sym\n",
    "\n",
    "t = sym.symbols('t', real=True)\n",
    "\n",
    "w0 = 2\n",
    "x = sym.cos(w0*t)\n",
    "\n",
    "sym.plot(x, (t, 0, 2*sym.pi), ylabel=r'$x(t)$');\n"
   ]
  },
  {
   "cell_type": "markdown",
   "metadata": {},
   "source": [
    "Let us now sample this signal with sampling period $T=0.1$, that is, with\n",
    "sampling frequency $\\omega_s = \\frac{2\\pi}{0.1}=20\\pi$."
   ]
  },
  {
   "cell_type": "code",
   "execution_count": null,
   "metadata": {},
   "outputs": [],
   "source": [
    "# sampling period \n",
    "T = 0.1\n",
    "n = sym.symbols('n', integer=True)\n",
    "\n",
    "# we create a temporary function f, which we will call to get values of x_p\n",
    "f = sym.Lambda(n, x.subs(t, n*T))\n",
    "\n",
    "import numpy as np\n",
    "\n",
    "# here we sample the signal for integer n values from -100 to 100.\n",
    "# Theoretically, we should do the sampling from minus infinity to plus infinity\n",
    "# but for practical reasons, we limit this. \n",
    "ns = np.arange(-100,100)\n",
    "xp = [f(i) for i in ns]\n"
   ]
  },
  {
   "cell_type": "markdown",
   "metadata": {},
   "source": [
    "The sampled values can be plotted as follows: "
   ]
  },
  {
   "cell_type": "code",
   "execution_count": null,
   "metadata": {},
   "outputs": [],
   "source": [
    "import matplotlib.pyplot as plt\n",
    "plt.stem(ns,xp)\n",
    "plt.xlim([0,50])\n",
    "plt.xlabel('n')\n",
    "plt.ylabel(r'$x_p(nT)$');"
   ]
  },
  {
   "cell_type": "markdown",
   "metadata": {},
   "source": [
    "Now we can reconstruct back $x$ using`xp` and `T`: "
   ]
  },
  {
   "cell_type": "code",
   "execution_count": null,
   "metadata": {},
   "outputs": [],
   "source": [
    "xr = sum(xp[i]*T*sym.sin((t-ns[i]*T)*sym.pi/T)/(sym.pi*(t-ns[i]*T)) for i in ns)\n",
    "sym.plot(xr, (t, 0, 2*sym.pi), ylabel=r'$x_r(t)$');"
   ]
  },
  {
   "cell_type": "markdown",
   "metadata": {},
   "source": [
    "Note that $x_r(t)$ is basically the same signal as $x(t)$. Here is $x(t)$'s\n",
    "plot: "
   ]
  },
  {
   "cell_type": "code",
   "execution_count": null,
   "metadata": {},
   "outputs": [],
   "source": [
    "sym.plot(x, (t, 0, 2*sym.pi), ylabel=r'$x(t)$');"
   ]
  },
  {
   "cell_type": "markdown",
   "metadata": {},
   "source": [
    "So, our sampling and reconstruction worked! It worked because our sampling\n",
    "frequency conformed with the Nyquist rate: \n",
    "\n",
    "$$\n",
    "\\omega_s > 2\\omega_M, \n",
    "$$\n",
    "\n",
    "where $2\\omega_M$ is the bandwidth of the input signal. In our case, this\n",
    "bandwidth is $2\\omega_0=4$. And the sampling frequency was $\\omega_s=20\\pi$. \n",
    "\n",
    "Now let us try the same procedure with another sampling period, this time let us\n",
    "use a sampling frequency less than the bandwidth of the signal. For example,\n",
    "$\\omega_s = \\pi$, which corresponds to $T = \\frac{2\\pi}{\\omega_s} = 2$.  "
   ]
  },
  {
   "cell_type": "code",
   "execution_count": null,
   "metadata": {},
   "outputs": [],
   "source": [
    "# sampling: \n",
    "T = 2\n",
    "f = sym.Lambda(n, x.subs(t, n*T))\n",
    "xp = [f(i) for i in ns]\n",
    "\n",
    "# reconstruction:\n",
    "xr = sum(xp[i]*T*sym.sin((t-ns[i]*T)*sym.pi/T)/(sym.pi*(t-ns[i]*T)) for i in ns)\n",
    "sym.plot(xr, (t, 0, 2*sym.pi), ylabel=r'$x_r(t)$');\n",
    "sym.plot(x, (t, 0, 2*sym.pi),  ylabel=r'$x(t)$');\n"
   ]
  },
  {
   "cell_type": "markdown",
   "metadata": {},
   "source": [
    "As you can see above, $x_r(t)$ and $x(t)$ are not the same signals. This\n",
    "happened because our sampling rate did not obey the Nyquist rate. Or, in other\n",
    "words, we undersampled the signal, or, aliasing occured. \n",
    "\n",
    "You are encouraged to reproduce the sampling and reconstruction procedure above\n",
    "for another signal and sampling period of your choice."
   ]
  },
  {
   "cell_type": "markdown",
   "metadata": {},
   "source": [
    "---\n",
    "Related content: \n",
    "\n",
    "[Sampling and reconstruction with first-order hold.](in1102)\n",
    "\n",
    "[Sampling and reconstruction of a discrete time signal.](in1201)"
   ]
  }
 ],
 "metadata": {
  "kernelspec": {
   "display_name": "Python 3",
   "language": "python",
   "name": "python3"
  },
  "language_info": {
   "codemirror_mode": {
    "name": "ipython",
    "version": 3
   },
   "file_extension": ".py",
   "mimetype": "text/x-python",
   "name": "python",
   "nbconvert_exporter": "python",
   "pygments_lexer": "ipython3",
   "version": "3.9.18"
  }
 },
 "nbformat": 4,
 "nbformat_minor": 2
}
