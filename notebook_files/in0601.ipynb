{
 "cells": [
  {
   "cell_type": "markdown",
   "metadata": {},
   "source": [
    "# Fourier series representation for continuous time periodic signals\n",
    "\n",
    "A continuous time periodic function $x(t)$ with fundamental period $T$\n",
    "satisfying the Dirichlet conditions, can be represented as the superposition of\n",
    "harmonically related complex exponentials: \n",
    "\n",
    "$$\n",
    "    x(t)=\\sum_{k=-\\infty}^{\\infty}a_k e^{jk\\omega_0 t} \\quad\n",
    "    \\text{(Synthesis Equation)}\n",
    "$$\n",
    "\n",
    "The coefficients $a_k$ are called the Fourier Series coefficients or\n",
    "spectral coefficients and can be uniquely obtained from the following\n",
    "integral:\n",
    "\n",
    "$$\n",
    "a_k=\\frac{1}{T}\\int_T x(t)e^{-jk\\omega_0 t}dt \\quad \\text{(Analysis Equation)}\n",
    "$$\n",
    "\n",
    "The limits of the integral cover one full period $T$ of the\n",
    "periodic function $x(t).$"
   ]
  },
  {
   "cell_type": "markdown",
   "metadata": {},
   "source": [
    "Using SymPy, we can easily evaluate the integral in the analysis example. Let us\n",
    "compute the spectral coefficients of $x(t) = \\sin(t)$ and plot its magnitude and\n",
    "phase spectrums. "
   ]
  },
  {
   "cell_type": "code",
   "execution_count": null,
   "metadata": {},
   "outputs": [],
   "source": [
    "import sympy as sym\n",
    "from sympy import I # the imaginary number \"j\" is represented as \"I\" in SymPy\n",
    "\n",
    "t = sym.symbols('t', real=True)\n",
    "x = sym.sin(t)\n",
    "\n",
    "T = 2*sym.pi # period of the signal\n",
    "omega0 = 1 # base angular frequency of the analysis\n",
    "\n",
    "# let's compute a0\n",
    "k=0\n",
    "a0 = (1/T)*sym.integrate(x*sym.exp(-I*omega0*k*t), (t, 0, T))\n",
    "print(a0)"
   ]
  },
  {
   "cell_type": "markdown",
   "metadata": {},
   "source": [
    "And $a_1$ and $a_{-1}$: "
   ]
  },
  {
   "cell_type": "code",
   "execution_count": null,
   "metadata": {},
   "outputs": [],
   "source": [
    "k=1\n",
    "a1 = (1/T)*sym.integrate(x*sym.exp(-I*omega0*k*t), (t, 0, T))\n",
    "print(a1)\n",
    "\n",
    "k=-1\n",
    "a_m1 = (1/T)*sym.integrate(x*sym.exp(-I*omega0*k*t), (t, 0, T))\n",
    "print(a_m1)"
   ]
  },
  {
   "cell_type": "markdown",
   "metadata": {},
   "source": [
    "`I` in SymPy represents the imaginary number $j$. \n",
    "\n",
    "Let us compute the other coefficients and plot magnitude and phase spectrums. "
   ]
  },
  {
   "cell_type": "code",
   "execution_count": null,
   "metadata": {},
   "outputs": [],
   "source": [
    "# let's write a function to compute the kth spectral coefficient\n",
    "def compute_ak(x, T, omega0, k): \n",
    "    ak = (1/T)*sym.integrate(x*sym.exp(-I*omega0*k*t), (t, 0, T))\n",
    "    return ak\n",
    "\n",
    "mag = []\n",
    "phase = []\n",
    "ks = range(-5,6,1)\n",
    "for k in ks:\n",
    "    ak = compute_ak(x, 2*sym.pi, 1, k)\n",
    "    mag.append(sym.Abs(ak))\n",
    "    phase.append(sym.arg(ak))\n",
    "\n",
    "from matplotlib import pyplot as plt\n",
    "\n",
    "# magnitude spectrum\n",
    "plt.figure()\n",
    "plt.stem(ks, mag)\n",
    "plt.xlabel('k')\n",
    "plt.ylabel(r'$|a_k|$')\n",
    "\n",
    "# phase spectrum\n",
    "plt.figure()\n",
    "plt.stem(ks, phase)\n",
    "plt.xlabel('k')\n",
    "plt.ylabel(r'$\\angle a_k$');"
   ]
  },
  {
   "cell_type": "markdown",
   "metadata": {},
   "source": [
    "Let us do another example, for $x(t) = 1 + \\sin(t) + \\cos(t)$. "
   ]
  },
  {
   "cell_type": "code",
   "execution_count": null,
   "metadata": {},
   "outputs": [],
   "source": [
    "x = 1 + sym.sin(t) + sym.cos(t)\n",
    "\n",
    "for k in ks:\n",
    "    ak = compute_ak(x, 2*sym.pi, 1, k)\n",
    "    print(\"a_\", k, \" = \", ak)"
   ]
  },
  {
   "cell_type": "markdown",
   "metadata": {},
   "source": [
    "---\n",
    "Related content: \n",
    "\n",
    "[Explore the Gibbs phenomenon.](in0602)\n",
    "\n",
    "[An example on the duality of convolution and multiplication.](in0603) \n",
    "\n",
    "[Explore trigonometric waveforms.](in0604)"
   ]
  }
 ],
 "metadata": {
  "kernelspec": {
   "display_name": "Python 3",
   "language": "python",
   "name": "python3"
  },
  "language_info": {
   "codemirror_mode": {
    "name": "ipython",
    "version": 3
   },
   "file_extension": ".py",
   "mimetype": "text/x-python",
   "name": "python",
   "nbconvert_exporter": "python",
   "pygments_lexer": "ipython3",
   "version": "3.9.18"
  }
 },
 "nbformat": 4,
 "nbformat_minor": 2
}
