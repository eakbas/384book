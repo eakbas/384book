{
 "cells": [
  {
   "cell_type": "markdown",
   "metadata": {},
   "source": [
    "# How to reconstruct a 2D image using only sine functions\n",
    "\n",
    "In the [previous notebook](in0901), we decomposed a one dimensional signal into\n",
    "its frequency components using the Discrete Time Fourier Transform (DTFT) and\n",
    "the Discrete Time Fourier Transform (DFT). Here in this notebook, we will do a\n",
    "similar analysis on 2D signals. We will decompose a 2D signal into its\n",
    "frequency components and reconstruct it back. "
   ]
  },
  {
   "cell_type": "markdown",
   "metadata": {},
   "source": [
    "## 2D DTFT\n",
    "\n",
    "Remember the analysis equation of DTFT:  \n",
    "\n",
    "$$\n",
    "\\quad X(e^{j\\omega}) =\n",
    "\\sum_{n=-\\infty}^{\\infty}x[n]e^{-j\\omega n}.\n",
    "$$\n",
    "\n",
    "For 2D, this equation becomes the following: \n",
    "\n",
    "$$\n",
    "\\quad X(e^{ju}, e^{jv}) =\n",
    "\\sum_{m=-\\infty}^{\\infty} \\sum_{n=-\\infty}^{\\infty}x[m,n]e^{-ju m - jvn}.\n",
    "$$\n",
    "\n",
    "The implementation is straightforward (see the 1D DTFT implementation in the\n",
    "[previous notebook](in0901)) and left to the reader as exercise. \n",
    "\n",
    "We are interested in applying the analysis equation to an image like this\n",
    "\n",
    "![mnist3](3.png)\n",
    "\n",
    "This is an image from the MNIST dataset, which you might remember from the\n",
    "notebook [An application of convolution in machine learning](in0404). It is a\n",
    "28-by-28 pixel, grayscale image. It is a spatially limited signal, \n",
    "that is, it does not have any values outside the 28-by-28 area. However, the\n",
    "DTFT is for analyzing signals that extend from minus infinity to plus infinity. So, it can be represented as a\n",
    "2D discrete time signal $x[m,n]$ where the image pixels are embedded at $0 \\le m\n",
    "\\le 27$ and $0 \\le n \\le 27$; for all other locations (i.e. $m<0\\;\\text{or}\\;\n",
    "m>27\\;\\text{or}\\;n<0\\;\\text{or}\\;n>27$), $x[m,n]$ is zero. \n",
    "\n",
    "The other alternative for applying Fourier transform on this image is to use the\n",
    "Discrete Fourier Transform (DFT), which is suitable for time limited or\n",
    "spatially limited data such as images. "
   ]
  },
  {
   "cell_type": "markdown",
   "metadata": {},
   "source": [
    "## 2D DFT\n",
    "\n",
    "The analysis equation for 2D DFT is as follows: \n",
    "\n",
    "$$\n",
    "X[u,v] = \\sum_{m=0}^{M-1}\\sum_{n=0}^{N-1} x[m,n] e^{-j 2 \\pi (\\frac{m}{M}u + \\frac{n}{N} v)}. \n",
    "$$\n",
    "\n",
    "2D DFT is implemented in numpy's `fft2`. FFT stands for [Fast Fourier\n",
    "Transform](https://en.wikipedia.org/wiki/Fast_Fourier_transform), \n",
    "which is a fast algorithm to compute DFT. The complex exponential in the right\n",
    "hand side represents waves of different frequencies and different orientations.\n",
    "To see this, let us plot its real part for some parameters. Remember that the\n",
    "Euler equation expands a complex exponential into sine and cosine waves:\n",
    "$e^{j\\theta} = \\cos(\\theta) + j\\sin(\\theta)$. So, the real part of the complex\n",
    "exponential above is $\\cos(2\\pi (\\frac{m}{M}u + \\frac{n}{N} v))$. Below we\n",
    "create and plot cosine waves for different $u$ and $v$. "
   ]
  },
  {
   "cell_type": "code",
   "execution_count": null,
   "metadata": {},
   "outputs": [],
   "source": [
    "import numpy as np\n",
    "from matplotlib import pyplot as plt \n",
    "\n",
    "def generate_wave(u,v):\n",
    "    nrows = 50\n",
    "    ncols = 50\n",
    "    wave = np.zeros((nrows,ncols), dtype=np.float64)\n",
    "    for m in range(nrows):\n",
    "        for n in range(ncols):\n",
    "            f = np.cos(2*np.pi*(u*m/nrows +v*n/ncols))\n",
    "            wave[m,n] = np.abs(f)\n",
    "    return wave\n",
    "\n",
    "plt.imshow(generate_wave(5,5), cmap='gray');\n",
    "plt.xticks([]), plt.yticks([]);"
   ]
  },
  {
   "cell_type": "code",
   "execution_count": null,
   "metadata": {},
   "outputs": [],
   "source": [
    "plt.imshow(generate_wave(0,3), cmap='gray');\n",
    "plt.xticks([]), plt.yticks([]);"
   ]
  },
  {
   "cell_type": "markdown",
   "metadata": {},
   "source": [
    "You are encouraged to play with the values of `u` and `v` above to see how the\n",
    "orientation and frequency of the wave changes. "
   ]
  },
  {
   "cell_type": "markdown",
   "metadata": {},
   "source": [
    "Now let us apply 2D DFT to a simple image,\n",
    "an image of a white square on a black background as seen below. "
   ]
  },
  {
   "cell_type": "code",
   "execution_count": null,
   "metadata": {},
   "outputs": [],
   "source": [
    "image = np.zeros((13,13))\n",
    "image[4:9,4:9] = 1\n",
    "plt.imshow(image, cmap='gray')\n",
    "plt.xticks([]), plt.yticks([]);"
   ]
  },
  {
   "cell_type": "markdown",
   "metadata": {},
   "source": [
    "Below two lines compute the DFT of this image. Adn, we plot the magnitude\n",
    "spectrum. "
   ]
  },
  {
   "cell_type": "code",
   "execution_count": null,
   "metadata": {},
   "outputs": [],
   "source": [
    "ft = np.fft.fft2(image)\n",
    "ft = np.fft.fftshift(ft)\n",
    "plt.imshow(np.abs(ft), cmap='gray')\n",
    "plt.xticks([]), plt.yticks([]);"
   ]
  },
  {
   "cell_type": "markdown",
   "metadata": {},
   "source": [
    "The second line above (the `fftshift`) shifts the zero-frequency component to\n",
    "the center of the spectrum. Thw low frequency components are around the center\n",
    "and the frequency gets higher as you move away from the center. \n",
    "\n",
    "We can reconstruct back the original image from its Fourier transsform as\n",
    "follows. "
   ]
  },
  {
   "cell_type": "code",
   "execution_count": null,
   "metadata": {},
   "outputs": [],
   "source": [
    "recons_image = np.fft.ifft2(ft)\n",
    "plt.imshow(np.abs(recons_image), cmap='gray')\n",
    "plt.xticks([]), plt.yticks([]);"
   ]
  },
  {
   "cell_type": "markdown",
   "metadata": {},
   "source": [
    "Now we will do another reconstruction but this time we will use only the low\n",
    "frequency components. We can achieve this by multiplying the Fourier transform\n",
    "with a mask as follows. "
   ]
  },
  {
   "cell_type": "code",
   "execution_count": null,
   "metadata": {},
   "outputs": [],
   "source": [
    "nrows, ncols = image.shape\n",
    "\n",
    "# Build a mask \n",
    "x = np.linspace(0, nrows, nrows)\n",
    "y = np.linspace(0, ncols, ncols)\n",
    "X, Y = np.meshgrid(x, y)\n",
    "cy, cx = nrows/2, ncols/2\n",
    "mask = np.sqrt((X-cx)**2+(Y-cy)**2)\n",
    "mask[mask<=4] = 1\n",
    "mask[mask>4] = 0\n",
    "\n",
    "plt.imshow(mask, cmap='gray')\n",
    "plt.xticks([]), plt.yticks([]);"
   ]
  },
  {
   "cell_type": "markdown",
   "metadata": {},
   "source": [
    "To form the mask we computed distances of each pixel from the center and then\n",
    "thresholded these distances with 4. Those loxations (pixels) that have a\n",
    "distance equal to or less than 4 is made 1, others 0. Now we can use this mask\n",
    "to reconstruct our image back by using only the low frequencies that correspond\n",
    "to the locations with mask value 1. "
   ]
  },
  {
   "cell_type": "code",
   "execution_count": null,
   "metadata": {},
   "outputs": [],
   "source": [
    "recons_image = np.fft.ifft2(ft*mask)\n",
    "plt.imshow(np.abs(recons_image), cmap='gray')\n",
    "plt.xticks([]), plt.yticks([]);"
   ]
  },
  {
   "cell_type": "markdown",
   "metadata": {},
   "source": [
    "This result shows that when we use only the low frequency components,\n",
    "the reconstruction is blurry. We do not see the sharp edges of the square, as\n",
    "expected. Low frequency  waves cannot reconstruct a sharp edge. \n",
    "\n",
    "Now let us reverse the mask: \n"
   ]
  },
  {
   "cell_type": "code",
   "execution_count": null,
   "metadata": {},
   "outputs": [],
   "source": [
    "mask2 = mask.copy()\n",
    "mask2[mask==1] = 0\n",
    "mask2[mask==0] = 1\n",
    "plt.imshow(mask2, cmap='gray')\n",
    "plt.xticks([]), plt.yticks([]);"
   ]
  },
  {
   "cell_type": "markdown",
   "metadata": {},
   "source": [
    "When we apply this mask to the Fourier transform and reconstruct the image, we\n",
    "only get the edges of the white square. This is expected because how we are using only the high\n",
    "frequency components which are good for reconstructing edges, i.e. sharp\n",
    "transitions. "
   ]
  },
  {
   "cell_type": "code",
   "execution_count": null,
   "metadata": {},
   "outputs": [],
   "source": [
    "recons_image = np.fft.ifft2(ft*mask2)\n",
    "plt.imshow(np.abs(recons_image), cmap='gray')\n",
    "plt.xticks([]), plt.yticks([]);"
   ]
  },
  {
   "cell_type": "markdown",
   "metadata": {},
   "source": [
    "You are encouraged to play with the threshold value (4) of the mask above and\n",
    "see how it changes the reconstructions with the mask. "
   ]
  },
  {
   "cell_type": "markdown",
   "metadata": {},
   "source": [
    "Now let us apply DFT to a real image. We will use an MNIST image: "
   ]
  },
  {
   "cell_type": "code",
   "execution_count": null,
   "metadata": {},
   "outputs": [],
   "source": [
    "from PIL import Image\n",
    "import requests\n",
    "from io import BytesIO\n",
    "\n",
    "response = requests.get('https://384book.net/_images/3.png')\n",
    "image = Image.open(BytesIO(response.content))\n",
    "image = np.asarray(image)\n",
    "image = image[:,:,0]\n",
    "\n",
    "plt.imshow(image, cmap='gray')\n",
    "plt.xticks([]), plt.yticks([]);"
   ]
  },
  {
   "cell_type": "markdown",
   "metadata": {},
   "source": [
    "Here is how its DFT magnitude spectrum looks like: "
   ]
  },
  {
   "cell_type": "code",
   "execution_count": null,
   "metadata": {},
   "outputs": [],
   "source": [
    "ft = np.fft.fft2(image)\n",
    "ft = np.fft.fftshift(ft)\n",
    "plt.imshow(np.abs(ft), cmap='gray');\n",
    "plt.xticks([]), plt.yticks([]);"
   ]
  },
  {
   "cell_type": "markdown",
   "metadata": {},
   "source": [
    "If we apply a mask to this spectrum to keep the low frequency components only,\n",
    "we get back a blurry \"3\": "
   ]
  },
  {
   "cell_type": "code",
   "execution_count": null,
   "metadata": {},
   "outputs": [],
   "source": [
    "nrows, ncols = image.shape\n",
    "\n",
    "# Build a mask \n",
    "x = np.linspace(0, nrows, nrows)\n",
    "y = np.linspace(0, ncols, ncols)\n",
    "X, Y = np.meshgrid(x, y)\n",
    "cy, cx = nrows/2, ncols/2\n",
    "mask = np.sqrt((X-cx)**2+(Y-cy)**2)\n",
    "mask[mask<=4] = 1\n",
    "mask[mask>4] = 0\n",
    "\n",
    "plt.imshow(mask, cmap='gray')\n",
    "plt.xticks([]), plt.yticks([]);"
   ]
  },
  {
   "cell_type": "code",
   "execution_count": null,
   "metadata": {},
   "outputs": [],
   "source": [
    "recons_image = np.fft.ifft2(ft*mask)\n",
    "plt.imshow(np.abs(recons_image), cmap='gray')\n",
    "plt.xticks([]), plt.yticks([]);"
   ]
  },
  {
   "cell_type": "markdown",
   "metadata": {},
   "source": [
    "In contrast, if we adjust the mask so that it zeros out the low frequency\n",
    "components and keep only the high frequency components, we get the edges in the\n",
    "image: "
   ]
  },
  {
   "cell_type": "code",
   "execution_count": null,
   "metadata": {},
   "outputs": [],
   "source": [
    "mask2 = mask.copy()\n",
    "mask2[mask==1] = 0\n",
    "mask2[mask==0] = 1\n",
    "plt.imshow(mask2, cmap='gray')\n",
    "plt.xticks([]), plt.yticks([]);"
   ]
  },
  {
   "cell_type": "code",
   "execution_count": null,
   "metadata": {},
   "outputs": [],
   "source": [
    "recons_image = np.fft.ifft2(ft*mask2)\n",
    "plt.imshow(np.abs(recons_image), cmap='gray')\n",
    "plt.xticks([]), plt.yticks([]);"
   ]
  }
 ],
 "metadata": {
  "kernelspec": {
   "display_name": "Python 3",
   "language": "python",
   "name": "python3"
  },
  "language_info": {
   "codemirror_mode": {
    "name": "ipython",
    "version": 3
   },
   "file_extension": ".py",
   "mimetype": "text/x-python",
   "name": "python",
   "nbconvert_exporter": "python",
   "pygments_lexer": "ipython3",
   "version": "3.9.18"
  }
 },
 "nbformat": 4,
 "nbformat_minor": 2
}
