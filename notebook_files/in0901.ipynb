{
 "cells": [
  {
   "cell_type": "markdown",
   "metadata": {},
   "source": [
    "# An example application: removing unwanted noise from audio\n",
    "\n",
    "In this notebook, we will analyze sound waves in the frequency domain. We will\n",
    "demonstrate how modifying signals in the frequency domain can effectively\n",
    "\"purify\" them.  \n",
    "\n",
    "For frequency domain analysis, we will begin by examining the Discrete-Time\n",
    "Fourier Transform (DTFT). However, we will find that the DTFT is not very suitable\n",
    "for our purposes. The DTFT analyzes signals that exist across the entire time\n",
    "axis, extending from negative infinity to positive infinity. Since in this task\n",
    "we are dealing with practical signals that have a finite duration, the DTFT's\n",
    "assumption of infinite signal length is not realistic.\n",
    "\n",
    "To overcome this limitation, we will introduce the Discrete Fourier Transform\n",
    "(DFT). The DFT performs a frequency domain analysis similar to the DTFT, but\n",
    "specifically for signals that are **time-limited**. This makes it a more practical\n",
    "tool for our denoising task in this notebook. \n",
    "\n",
    "Let us create an A4 tone, which has 440 Hz (cycles/second) frequency. It is the\n",
    "A above middle C in the piano. It is also the dial tone used in our phones. \n"
   ]
  },
  {
   "cell_type": "code",
   "execution_count": 1,
   "metadata": {},
   "outputs": [],
   "source": [
    "import numpy as np\n",
    "\n",
    "sampleRate = 24000 # samples per second\n",
    "frequency = 440    # this is the frequency of note A4\n",
    "duration = 1       # a second\n",
    "\n",
    "n = np.linspace(0, duration, int(sampleRate * duration))  \n",
    "x = np.sin(frequency * 2 * np.pi * n)  #  Has frequency of 440Hz   "
   ]
  },
  {
   "cell_type": "markdown",
   "metadata": {},
   "source": [
    "Here we created a signal in the form $x[n] = \n",
    "sin(2\\pi f n)$, where $f$ is the frequency of the signal in cycles per second,\n",
    "or Hertz (Hz). The sample rate defines how many times per\n",
    "second a continuous signal is measured to create a digital representation. The\n",
    "value we use here ($24000$) is a typical value for audio WAV files. \n",
    "\n",
    "Here is how the signal looks like: "
   ]
  },
  {
   "cell_type": "code",
   "execution_count": null,
   "metadata": {},
   "outputs": [],
   "source": [
    "from matplotlib import pyplot as plt\n",
    "plt.stem(x[:100]); # we are just plotting the first 100 samples for visibility"
   ]
  },
  {
   "cell_type": "markdown",
   "metadata": {},
   "source": [
    "And, here is how this signals sounds: "
   ]
  },
  {
   "cell_type": "code",
   "execution_count": 3,
   "metadata": {},
   "outputs": [],
   "source": [
    "import sounddevice as sd\n",
    "sd.play(x, sampleRate) "
   ]
  },
  {
   "cell_type": "markdown",
   "metadata": {},
   "source": [
    "Now let us pollute this nice tone with another high-pitch tone and with some\n",
    "random noise. For this, we will create a very high frequency signal and add\n",
    "normal random noise to it: "
   ]
  },
  {
   "cell_type": "code",
   "execution_count": null,
   "metadata": {},
   "outputs": [],
   "source": [
    "noise_freq = 7902 # this is the note B8\n",
    "noise = 0.3*np.sin(noise_freq * 2 * np.pi * n) + 0.1*np.random.normal(0,1,len(x)) #  Has frequency of 440Hz\n",
    "\n",
    "plt.stem(noise[:100])"
   ]
  },
  {
   "cell_type": "markdown",
   "metadata": {},
   "source": [
    "Here is how this signal sounds: "
   ]
  },
  {
   "cell_type": "code",
   "execution_count": 5,
   "metadata": {},
   "outputs": [],
   "source": [
    "sd.default.reset()\n",
    "sd.play(noise, sampleRate) "
   ]
  },
  {
   "cell_type": "markdown",
   "metadata": {},
   "source": [
    "Now we create the polluted signal by adding the A4 tone with the noise we just\n",
    "created. Below we both plot and play it. Together with the A4 tone, you should\n",
    "be able to hear the high-pitch tone and a noisy \"hiss\" sound. "
   ]
  },
  {
   "cell_type": "code",
   "execution_count": null,
   "metadata": {},
   "outputs": [],
   "source": [
    "y = x + noise \n",
    "\n",
    "plt.stem(y[:100]);\n",
    "\n",
    "sd.play(y)"
   ]
  },
  {
   "cell_type": "markdown",
   "metadata": {},
   "source": [
    "One can develop a time-domain algorithm to smooth this polluted signal, that is,\n",
    "to remove both the high-pitch tone and the noisy \"hiss\". However,\n",
    "we will use the frequency domain analysis to carry out this task. "
   ]
  },
  {
   "cell_type": "markdown",
   "metadata": {},
   "source": [
    "Let us remember the discrete time Fourier transform. The Fourier transform representation of a\n",
    "signal enables us to decompose an aperiodic discrete time signal into its\n",
    "frequency components, which are embedded in the signal. A discrete time function,\n",
    "$x[n]$, can be uniquely represented as a weighted integral of complex\n",
    "exponential function by the DTFT **synthesis equation:**\n",
    "\n",
    "$$\n",
    "x[n] = \\frac1{2\\pi}\\int_{2\\pi}X(e^{j\\omega})e^{j\\omega n}d\\omega,\n",
    "$$\n",
    "\n",
    "where the weight, called the Fourier transform, is a continuous  function of\n",
    "frequency, which can be uniquely obtained from the time domain function by the\n",
    "DTFT **analysis equation:** \n",
    "\n",
    "$$\n",
    "\\quad X(e^{j\\omega}) =\n",
    "\\sum_{n=-\\infty}^{\\infty}x[n]e^{-j\\omega n}.\n",
    "$$\n",
    "\n",
    "The analysis equation shows us how to obtain the Fourier transform,\n",
    "$X(e^{j\\omega})$ of $x[n]$, which represents the signal as a function of\n",
    "frequencies, in the frequency domain. "
   ]
  },
  {
   "cell_type": "markdown",
   "metadata": {},
   "source": [
    "Below you can find an implementation to compute DTFT. The DTFT has a unique\n",
    "characteristic: it takes a discrete time function as input but produces a\n",
    "continuous time function as output. Throughout this website, we have primarily\n",
    "used SymPy for continuous-time operations and NumPy for discrete-time signal\n",
    "processing. However, mixing these two libraries to implement DTFT is not\n",
    "trivial. Therefore, we will utilize NumPy for our DTFT implementation due to its\n",
    "more extensive capabilities. Of course, we will have to discretize the\n",
    "frequencies to represent a continuous domain. "
   ]
  },
  {
   "cell_type": "code",
   "execution_count": 7,
   "metadata": {},
   "outputs": [],
   "source": [
    "# compute DTFT\n",
    "def dtft(x):    \n",
    "    # here we discretize the continuous frequency axis (between -pi and +pi) to\n",
    "    # 75 equally spaced intervals. The choice of 75 is arbitrary. The higher the\n",
    "    # better but the higher it is, computation becomes slower. \n",
    "    w = np.linspace(-np.pi, np.pi, 75) \n",
    "    \n",
    "    X = np.zeros(len(w), dtype=np.complex64)\n",
    "    mag = np.zeros(len(w))\n",
    "    for i in range(len(w)): \n",
    "        X[i] = 0\n",
    "        # in theory, the following loop should run from minus infinity to plus\n",
    "        # infinity\n",
    "        for n in range(len(x)):\n",
    "            X[i] += x[n]*np.exp(-1j*w[i]*n)\n",
    "        mag[i] = np.abs(X[i])\n",
    "\n",
    "    # return the Fourier transform (X), which consists of complex numbers; the\n",
    "    # magnitude of Fourier transform and the discrete values of frequencies \n",
    "    return X, mag, w"
   ]
  },
  {
   "cell_type": "markdown",
   "metadata": {},
   "source": [
    "Let's use this implementation to analyze the pure tone A4 that we started with.\n",
    "Below we compute the DTFT of `x` and plot its magnitude spectrum. "
   ]
  },
  {
   "cell_type": "code",
   "execution_count": null,
   "metadata": {},
   "outputs": [],
   "source": [
    "X,mag,w = dtft(x)\n",
    "fig = plt.figure()\n",
    "plt.plot(w,mag)\n",
    "plt.xlabel(r'$\\omega$')\n",
    "plt.ylabel(r'$|X(e^{j\\omega})|$');\n",
    "fig.axes[0].set_xticks([-np.pi, -np.pi/2, 0, np.pi/2, np.pi])\n",
    "fig.axes[0].set_xticklabels([r'$-\\pi$', r'$-\\pi/2$', 0, r'$\\pi/2$', r'$\\pi$']);"
   ]
  },
  {
   "cell_type": "markdown",
   "metadata": {},
   "source": [
    "As you can see, some low frequency components (near zero) have large magnitudes.\n",
    "And there are small non-zero activations in other frequencies. You might ask:\n",
    "`x` consists of only one frequency (440Hz), why don't we see only one (actually\n",
    "two, it should be symmetric around zero) non-zero components? This would be true it\n",
    "`x` was periodic but it is not. It is not periodic because it does not extend to\n",
    "minus infinity to plus infinity. It is a time-limited signal. Due to this\n",
    "time-limited nature, we see many frequency components to have non-zero\n",
    "magnitudes. \n",
    "\n",
    "Let us also have a look at the magnitude spectrums of the noise. "
   ]
  },
  {
   "cell_type": "code",
   "execution_count": null,
   "metadata": {},
   "outputs": [],
   "source": [
    "Xn,magn,w = dtft(noise)\n",
    "fig = plt.figure()\n",
    "plt.plot(w,magn)\n",
    "plt.xlabel(r'$\\omega$')\n",
    "plt.ylabel(r'$|X_{noise}(e^{j\\omega})|$');\n",
    "fig.axes[0].set_xticks([-np.pi, -np.pi/2, 0, np.pi/2, np.pi])\n",
    "fig.axes[0].set_xticklabels([r'$-\\pi$', r'$-\\pi/2$', 0, r'$\\pi/2$', r'$\\pi$']);"
   ]
  },
  {
   "cell_type": "markdown",
   "metadata": {},
   "source": [
    "It has non-zero magnitudes all over the frequency domain. This is due to the\n",
    "standard normal noise. Let us look at the spectrum of only the high-pitch tone. "
   ]
  },
  {
   "cell_type": "code",
   "execution_count": null,
   "metadata": {},
   "outputs": [],
   "source": [
    "hp = 0.5*np.sin(noise_freq * 2 * np.pi * n) \n",
    "Xhp,maghp,w = dtft(hp)\n",
    "fig = plt.figure()\n",
    "plt.plot(w,maghp)\n",
    "plt.xlabel(r'$\\omega$')\n",
    "plt.ylabel(r'$|X_{high-pitch}(e^{j\\omega})|$');\n",
    "fig.axes[0].set_xticks([-np.pi, -np.pi/2, 0, np.pi/2, np.pi])\n",
    "fig.axes[0].set_xticklabels([r'$-\\pi$', r'$-\\pi/2$', 0, r'$\\pi/2$', r'$\\pi$']);"
   ]
  },
  {
   "cell_type": "markdown",
   "metadata": {},
   "source": [
    "This plot clearly shows two high-frequency (around 2 and -2) components having\n",
    "large magnitudes. And, here is the spectrum of the polluted signal `y`. "
   ]
  },
  {
   "cell_type": "code",
   "execution_count": null,
   "metadata": {},
   "outputs": [],
   "source": [
    "Y,magy,w = dtft(y)\n",
    "fig = plt.figure()\n",
    "plt.plot(w,magy)\n",
    "plt.xlabel(r'$\\omega$')\n",
    "plt.ylabel(r'$|Y(e^{j\\omega})|$');\n",
    "fig.axes[0].set_xticks([-np.pi, -np.pi/2, 0, np.pi/2, np.pi])\n",
    "fig.axes[0].set_xticklabels([r'$-\\pi$', r'$-\\pi/2$', 0, r'$\\pi/2$', r'$\\pi$']);"
   ]
  },
  {
   "cell_type": "markdown",
   "metadata": {},
   "source": [
    "Remember that our goal was to recover `x` from `y`. Looking at the Fourier\n",
    "transform specrum of `y` above, it does not look possible to discern the\n",
    "contributions of `x` and `y` in this plot. \n",
    "\n",
    "To tackle this problem, we wil introduce the Discrete Fourier Transform (DFT),\n",
    "which is specially designed to analyze time-limited signals, such as `x`.  "
   ]
  },
  {
   "cell_type": "markdown",
   "metadata": {},
   "source": [
    "## Discrete Fourier Transform (DFT)\n",
    "\n",
    "The DFT computes frequency coefficients for a time-limited input signal, whose\n",
    "samples are equally spaced apart. The following is the analysis equation of DFT: \n",
    "\n",
    "$$\n",
    "X_k = \\sum_{n=0}^{N-1} x[n] e^{-j 2 \\pi \\frac{k}{N} n}. \n",
    "$$\n",
    "\n",
    "Compare this to the analysis equation of DTFT: \n",
    "\n",
    "$$\n",
    "\\quad X(e^{j\\omega}) =\n",
    "\\sum_{n=-\\infty}^{\\infty}x[n]e^{-j\\omega n}.\n",
    "$$\n",
    "\n",
    "The major difference between the two is that in DFT, the sum runs from 0 to N\n",
    "(hence, time-limited). And, the DFT returns a sequence of  complex numbers ($X_k$) but\n",
    "the DTFT returns a complex-valued continuous function ($X(e^{j\\omega})$). \n",
    "\n",
    "At this point, it should be trivial to implement the analysis equation of DFT.\n",
    "We leave this as an exercise for the reader. Numpy provides a function to\n",
    "compute DFT. In the following, we will use numpy's `fft` to compute the DFT. \n"
   ]
  },
  {
   "cell_type": "markdown",
   "metadata": {},
   "source": [
    "Let us compute and plot the DFT of `x`, the pure A4 tone. "
   ]
  },
  {
   "cell_type": "code",
   "execution_count": null,
   "metadata": {},
   "outputs": [],
   "source": [
    "Xk = np.fft.fft(x)\n",
    "freq = np.fft.fftfreq(n.shape[-1])\n",
    "plt.plot(freq, np.abs(Xk))\n",
    "plt.xlabel('k/N')\n",
    "plt.ylabel(r'$|X_k|$');\n"
   ]
  },
  {
   "cell_type": "markdown",
   "metadata": {},
   "source": [
    "As you can see, there are two large magnitude components for a certain low\n",
    "frequency (around 0, for +k and -k). And now, let us observe the DFT magnitude\n",
    "spectrum of the noise."
   ]
  },
  {
   "cell_type": "code",
   "execution_count": null,
   "metadata": {},
   "outputs": [],
   "source": [
    "sp = np.fft.fft(noise)\n",
    "freq = np.fft.fftfreq(n.shape[-1])\n",
    "plt.figure(), plt.plot(freq, np.abs(sp));\n",
    "print(np.abs(sp[:100]))\n"
   ]
  },
  {
   "cell_type": "markdown",
   "metadata": {},
   "source": [
    "The noise is characterised by two large magnitude high frequency components. And\n",
    "also, small but non-zero magnitudes all over the spectrum, as printed above. The\n",
    "DFT magnitude spectrum of `y` is as follows. "
   ]
  },
  {
   "cell_type": "code",
   "execution_count": null,
   "metadata": {},
   "outputs": [],
   "source": [
    "Yk = np.fft.fft(y)\n",
    "freq = np.fft.fftfreq(n.shape[-1])\n",
    "plt.figure(), plt.plot(freq, np.abs(Yk));\n",
    "plt.xlabel('k/N')\n",
    "plt.ylabel(r'$|Y_k|$');"
   ]
  },
  {
   "cell_type": "markdown",
   "metadata": {},
   "source": [
    "This plot clearly shows that `y` consists of one low frequency and one high\n",
    "frequency component. To keep the low frequency component only, we can zero out\n",
    "everything that has a magnitude less than 3000. Below we do this modification\n",
    "and reconstruct back the signal using inverse DFT, which should remove the noise\n",
    "in `y`. You can find the plot of denoised `y` (compare this with the original\n",
    "plot of `y` at the beginning of this notebook) and listen to it. It should sound\n",
    "like the pure A4 tone you listenede to above. "
   ]
  },
  {
   "cell_type": "code",
   "execution_count": null,
   "metadata": {},
   "outputs": [],
   "source": [
    "Yk[np.abs(Yk)<3000] = 0\n",
    "\n",
    "x_recons = np.real(np.fft.ifft(Yk))\n",
    "plt.plot(np.real(x_recons[:200]))\n",
    "plt.title('denoised y')\n",
    "\n",
    "sd.default.reset()\n",
    "sd.play(np.real(x_recons), sampleRate)"
   ]
  }
 ],
 "metadata": {
  "kernelspec": {
   "display_name": "Python 3",
   "language": "python",
   "name": "python3"
  },
  "language_info": {
   "codemirror_mode": {
    "name": "ipython",
    "version": 3
   },
   "file_extension": ".py",
   "mimetype": "text/x-python",
   "name": "python",
   "nbconvert_exporter": "python",
   "pygments_lexer": "ipython3",
   "version": "3.9.18"
  }
 },
 "nbformat": 4,
 "nbformat_minor": 2
}
