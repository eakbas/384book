{
 "cells": [
  {
   "cell_type": "markdown",
   "metadata": {},
   "source": [
    "# Trigonometric Fourier series representation \n",
    "\n",
    "In Section 6.9 of the book, we introduces the trigonometric Fourier series. \n",
    "\n",
    "SymPy has a native function to compute trigonometric Fourier series. However, it\n",
    "uses a slightly different notation. "
   ]
  },
  {
   "cell_type": "markdown",
   "metadata": {},
   "source": [
    "SymPy  analyses the given signal in a finite period as\n",
    "opposed to the whole real axis (from minus infinity to plus infinity) as we did\n",
    "in the book.  \n",
    "\n",
    "In SymPy, the Fourier trigonometric series of $x(t)$ over the interval $(l,u)$\n",
    "is defined as \n",
    "\n",
    "$$\n",
    "x(t) = \\frac{a_0}{2} + \\sum_{n=1}^{\\infty} \\left( a_n \\cos(\\frac{2n\\pi t}{u-l})\n",
    "+ b_n \\sin(\\frac{2n\\pi t}{u-l}) \\right)\n",
    "$$\n",
    "\n",
    "where the coefficients are as follows: \n",
    "\n",
    "$$\n",
    "a_0 = \\frac{2}{u-l} \\int_l^u x(t) dt,\n",
    "$$\n",
    "\n",
    "$$\n",
    "a_n = \\frac{2}{u-l} \\int_l^u x(t)  \\cos(\\frac{2n\\pi t}{u-l}) dt,\n",
    "$$\n",
    "\n",
    "$$\n",
    "b_n = \\frac{2}{u-l} \\int_l^u x(t)  \\sin(\\frac{2n\\pi t}{u-l}) dt.\n",
    "$$\n",
    "\n",
    "If you do not explicitly specify, the default range for $(l,u)$ is $(-\\pi, \\pi)$. \n",
    "\n"
   ]
  },
  {
   "cell_type": "markdown",
   "metadata": {},
   "source": [
    "Let us find out the trigonometric Fourier series coefficients of $x(t)=\\cos(t)$. "
   ]
  },
  {
   "cell_type": "code",
   "execution_count": null,
   "metadata": {},
   "outputs": [],
   "source": [
    "import sympy as sym\n",
    "t = sym.symbols('t', real=True)\n",
    "x = sym.cos(t)\n",
    "s = sym.fourier_series(x)\n",
    "print(\"a_0: \", s.a0)\n",
    "print(\"a_n (for n>=1): \", s.an)"
   ]
  },
  {
   "cell_type": "markdown",
   "metadata": {},
   "source": [
    "The format `{1:1}` means that $a_1=1$ and all unspecified $a_k$ are equal to\n",
    "$0$. All $b_n$ are zeros: "
   ]
  },
  {
   "cell_type": "code",
   "execution_count": null,
   "metadata": {},
   "outputs": [],
   "source": [
    "print(\"b_n (for n>=1): \", s.bn)"
   ]
  },
  {
   "cell_type": "markdown",
   "metadata": {},
   "source": [
    "Let us use another signal: "
   ]
  },
  {
   "cell_type": "code",
   "execution_count": null,
   "metadata": {},
   "outputs": [],
   "source": [
    "x = 2 + sym.cos(t) + sym.sin(2*t)\n",
    "s = sym.fourier_series(x)\n",
    "print(\"a_0: \", s.a0)\n",
    "print(\"a_n (for n>=1): \", s.an)\n",
    "print(\"b_n (for n>=1): \", s.bn)"
   ]
  },
  {
   "cell_type": "markdown",
   "metadata": {},
   "source": [
    "Below we compute the trigonometric Fourier series of the following rectangular\n",
    "pulse signal: \n",
    "\n",
    "$$\n",
    "x(t) = \\begin{cases} \n",
    "1, & |t| \\le 0.5, \\\\\n",
    "0 , & 0.5 \\lt |t| \\le 1. \\\\\n",
    "\\end{cases}\n",
    "$$\n",
    "\n",
    "with fundamental period $2$. "
   ]
  },
  {
   "cell_type": "code",
   "execution_count": null,
   "metadata": {},
   "outputs": [],
   "source": [
    "x = sym.Heaviside(t+1/2) - sym.Heaviside(t-1/2)\n",
    "sym.plot(x, (t, -1, 1))\n",
    "\n",
    "s = sym.fourier_series(x, (t, -1, 1))\n",
    "\n",
    "from IPython.display import display\n",
    "display(\"a_0:\", s.a0)\n",
    "display(\"a_n (for n>=1):\", s.an)\n",
    "display(\"b_n (for n>=1):\", s.bn)"
   ]
  },
  {
   "cell_type": "markdown",
   "metadata": {},
   "source": [
    "**Exercise:**  Write a script to convert trigonometric Fourier series\n",
    "coefficients to spectral coefficients (Hint: Section 6.9)."
   ]
  },
  {
   "cell_type": "markdown",
   "metadata": {},
   "source": [
    "---\n",
    "Related content: \n",
    "\n",
    "[Explore Fourier series representation for continuous time periodic signals.](in0601)\n",
    "\n",
    "[Explore the Gibbs phenomenon.](in0602)\n",
    "\n",
    "[An example on the duality of convolution and multiplication.](in0603) "
   ]
  }
 ],
 "metadata": {
  "kernelspec": {
   "display_name": "Python 3",
   "language": "python",
   "name": "python3"
  },
  "language_info": {
   "codemirror_mode": {
    "name": "ipython",
    "version": 3
   },
   "file_extension": ".py",
   "mimetype": "text/x-python",
   "name": "python",
   "nbconvert_exporter": "python",
   "pygments_lexer": "ipython3",
   "version": "3.9.18"
  }
 },
 "nbformat": 4,
 "nbformat_minor": 2
}
