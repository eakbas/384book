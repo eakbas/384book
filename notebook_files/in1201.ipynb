{
 "cells": [
  {
   "cell_type": "markdown",
   "metadata": {},
   "source": [
    "# Sampling and reconstruction of a discrete time signal\n",
    "\n",
    "Sampling and reconstruction of a discrete time signal is very similar to that of\n",
    "a continuous time signal, which was descibed [before](in1101). "
   ]
  },
  {
   "cell_type": "markdown",
   "metadata": {},
   "source": [
    "Let us create a discrete time signal `x[n]` and plot it:  "
   ]
  },
  {
   "cell_type": "code",
   "execution_count": null,
   "metadata": {},
   "outputs": [],
   "source": [
    "import numpy as np\n",
    "from matplotlib import pyplot as plt\n",
    "\n",
    "ns = np.arange(0,70,1)\n",
    "\n",
    "w0 = 0.1\n",
    "\n",
    "def x(n):\n",
    "    return np.cos(w0*n)\n",
    "\n",
    "plt.stem(ns, x(ns))\n",
    "plt.ylabel(r'$x[n]$')\n",
    "plt.xlabel(r'$n$');"
   ]
  },
  {
   "cell_type": "markdown",
   "metadata": {},
   "source": [
    "Let us now sample this signal using a sampling period of $N=4$: "
   ]
  },
  {
   "cell_type": "code",
   "execution_count": null,
   "metadata": {},
   "outputs": [],
   "source": [
    "N = 4\n",
    "\n",
    "def xp(n):\n",
    "    return (n%N ==0)*x(n)"
   ]
  },
  {
   "cell_type": "markdown",
   "metadata": {},
   "source": [
    "The sampled signal looks like this: "
   ]
  },
  {
   "cell_type": "code",
   "execution_count": null,
   "metadata": {},
   "outputs": [],
   "source": [
    "plt.stem(xp(ns))\n",
    "plt.ylabel(r'$x_p[n]$')\n",
    "plt.xlabel(r'$n$');"
   ]
  },
  {
   "cell_type": "markdown",
   "metadata": {},
   "source": [
    "Notice the zeros in between the sampled values. We can get rid of those zero\n",
    "values by *decimating* the signal, that is, by keeping every $N$ element. Here is\n",
    "the decimated signal $x_b[n]=x_p[nN]$: "
   ]
  },
  {
   "cell_type": "code",
   "execution_count": null,
   "metadata": {},
   "outputs": [],
   "source": [
    "xb = xp(ns[:int(len(ns)/N)]*N)\n",
    "plt.stem(xb);"
   ]
  },
  {
   "cell_type": "markdown",
   "metadata": {},
   "source": [
    "Now we can reconstruct back the original signal $x[n]$ from $x_b[n]$, which is\n",
    "equivalent to $x_p[nN]$: "
   ]
  },
  {
   "cell_type": "code",
   "execution_count": null,
   "metadata": {},
   "outputs": [],
   "source": [
    "ks = np.arange(-100,100,1)\n",
    "\n",
    "# sampling frequency\n",
    "ws = 2*np.pi/N  \n",
    "\n",
    "def xr(n):\n",
    "    return sum(xp(k*N)*(1/N)*np.sinc((n-k*N)/N) for k in ks)\n",
    "\n",
    "qq=xr(np.arange(1,70,1))\n",
    "plt.stem(qq)\n",
    "plt.ylabel(r'$x_r[n]$')\n",
    "plt.xlabel(r'$n$');"
   ]
  },
  {
   "cell_type": "markdown",
   "metadata": {},
   "source": [
    "Here, we used the fact that passing the signal through an ideal low-pass filter\n",
    "$H(j \\omega)$ is equivalent to convolving the signal with a $\\text{sinc}(\\dot)$\n",
    "function. "
   ]
  },
  {
   "cell_type": "markdown",
   "metadata": {},
   "source": [
    "---\n",
    "Related content: \n",
    "\n",
    "[Sampling and reconstruction of a continuous time signal.](in1101)\n",
    "\n",
    "[Sampling and reconstruction with first-order hold.](in1102)"
   ]
  }
 ],
 "metadata": {
  "kernelspec": {
   "display_name": "Python 3",
   "language": "python",
   "name": "python3"
  },
  "language_info": {
   "codemirror_mode": {
    "name": "ipython",
    "version": 3
   },
   "file_extension": ".py",
   "mimetype": "text/x-python",
   "name": "python",
   "nbconvert_exporter": "python",
   "pygments_lexer": "ipython3",
   "version": "3.9.18"
  }
 },
 "nbformat": 4,
 "nbformat_minor": 2
}
