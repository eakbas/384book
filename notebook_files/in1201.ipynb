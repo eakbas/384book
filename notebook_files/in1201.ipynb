{
 "cells": [
  {
   "cell_type": "markdown",
   "metadata": {},
   "source": [
    "# Sampling and reconstruction of a discrete time signal"
   ]
  },
  {
   "cell_type": "markdown",
   "metadata": {},
   "source": [
    "---\n",
    "Related content: \n",
    "\n",
    "[Sampling and reconstruction of a continuous time signal.](in1101)\n",
    "\n",
    "[Sampling and reconstruction with first-order hold.](in1102)"
   ]
  }
 ],
 "metadata": {
  "language_info": {
   "name": "python"
  }
 },
 "nbformat": 4,
 "nbformat_minor": 2
}
