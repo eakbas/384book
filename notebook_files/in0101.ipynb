{
 "cells": [
  {
   "cell_type": "markdown",
   "metadata": {},
   "source": [
    "# Types of signals \n",
    "\n",
    "\n",
    "We represent signals using mathematical functions. A function maps\n",
    "elements in a domain set to the elements in a range set. Throughout this book,\n",
    "we will mostly deal with functions of a single independent variable, which\n",
    "usually represents time, denoted with $t$ or $n$.  \n",
    "\n",
    "Let us create the following signal using SymPy and plot it: \n",
    "\n",
    "$x(t) = \\cos(t)$.\n",
    "\n",
    "First, we need to define the independent variable, that is time, represented by the variable $t$:"
   ]
  },
  {
   "cell_type": "code",
   "execution_count": null,
   "metadata": {},
   "outputs": [],
   "source": [
    "import sympy as sym\n",
    "\n",
    "t = sym.symbols('t', real=True)"
   ]
  },
  {
   "cell_type": "markdown",
   "metadata": {},
   "source": [
    "We defined $t$ to be a variable taking values from real numbers by saying\n",
    "`real=True`.  Let us now create a signal that depends on $t$, and\n",
    "plot it. Remember, a signal is a function. "
   ]
  },
  {
   "cell_type": "code",
   "execution_count": null,
   "metadata": {},
   "outputs": [],
   "source": [
    "# the signal:\n",
    "x = sym.cos(t)\n",
    "\n",
    "sym.plot(x, (t, 0, 2*sym.pi), ylabel='cos(t)');"
   ]
  },
  {
   "cell_type": "markdown",
   "metadata": {},
   "source": [
    "Notes:\n",
    "\n",
    "- The `sym.plot()` call produces one line of text output, which is not\n",
    "useful for our purposes here. So, we supress it using a semicolon at the end of\n",
    "`sym.plot()`. You can try removing it and see the useless text output yourself. \n",
    "- The `(t, 0, 2*sym.pi)` argument limits the x-axis, i.e. the $t$ variable, to\n",
    "$[0,2\\pi]$ for the purposes of plotting. **The signal continues to exist beyond\n",
    "this interval, towards $-\\infty$ and $\\infty$.**\n",
    "- The `ylabel='cos(t)'` argument prints a\n",
    "label for the y-axis. "
   ]
  },
  {
   "cell_type": "markdown",
   "metadata": {},
   "source": [
    "\n",
    "\n",
    "In Section 1.3.2 of our  book, we describe there types of signals: \n",
    "\n",
    "- continuous time (CT) signals,\n",
    "- discrete time (DT) signals and\n",
    "- digital signals. \n",
    "\n",
    "In the following, we will define and plot example signals for each category. "
   ]
  },
  {
   "cell_type": "markdown",
   "metadata": {},
   "source": [
    "## Continuous time (CT) signals \n",
    "\n",
    "Continuous time (CT) signals are represented by continuous functions, where both the\n",
    "domain and the range consists of real numbers. It is conventional to use the\n",
    "symbol `t` as the continuous domain variable. The example signal above, i.e.\n",
    "$x(t) = \\cos(t)$, is a CT signal. \n",
    "\n",
    "Let us define and plot another CT signal, e.g. $x(t) = e^{-t}$. "
   ]
  },
  {
   "cell_type": "code",
   "execution_count": null,
   "metadata": {},
   "outputs": [],
   "source": [
    "x = sym.exp(-t)\n",
    "\n",
    "sym.plot(x, (t,0,5), ylabel='$e^{-t}$');"
   ]
  },
  {
   "cell_type": "markdown",
   "metadata": {},
   "source": [
    "Note that we limited $t$ to the interval $[0,5]$ for plotting purposes. The\n",
    "signal extends to $-\\infty$ and $\\infty$. \n"
   ]
  },
  {
   "cell_type": "markdown",
   "metadata": {},
   "source": [
    "## Discrete time (DT) signals\n",
    "\n",
    "Discrete time signals are represented by discrete functions, where   the domain\n",
    "variable is an integer and the range is a  real number. It is conventional to\n",
    "use the symbol $n$ as the discrete domain variable, representing integers.  \n",
    "\n",
    "Let us define and plot the following DT signal:\n",
    "\n",
    "$x[n]=e^{-n}$. "
   ]
  },
  {
   "cell_type": "code",
   "execution_count": null,
   "metadata": {},
   "outputs": [],
   "source": [
    "import numpy as np\n",
    "import matplotlib.pyplot as plt \n",
    "\n",
    "n = np.arange(-2, 3)\n",
    "x = np.exp(-n)\n",
    "\n",
    "plt.stem(n,x);\n",
    "plt.xlabel('$n$')\n",
    "plt.ylabel('$e^{-n}$')"
   ]
  },
  {
   "cell_type": "markdown",
   "metadata": {},
   "source": [
    "Note that we limited $n$ to the interval $[-2,2]$ for plotting purposes. The\n",
    "signal extends to $-\\infty$ and $\\infty$. \n"
   ]
  },
  {
   "cell_type": "markdown",
   "metadata": {},
   "source": [
    "## Digital signals \n",
    "\n",
    "Digital signals are represented by range-quantized discrete functions. Both the\n",
    "domain and range of the digital signals consist of integer numbers.  \n",
    "\n",
    "Suppose that we have a thermometer which can provide its temperature measurement\n",
    "only in integer numbers. If we record values from this thermometer at regular\n",
    "intervals of time, then we would obtain a digital signal. \n",
    "\n",
    "Let us define an example digital signal as follows: \n",
    "\n",
    "$x[n]=\\begin{cases}\n",
    "0, & n<-3, \\\\\n",
    "2, & -3 \\le n < -1, \\\\\n",
    "1, & -1 \\le n < 1, \\\\\n",
    "3, & 1 \\le n < 3, \\\\\n",
    "0, & n \\ge 3\n",
    "\\end{cases}$\n",
    "\n",
    "where both $n$ and $x[n]$ are integers. "
   ]
  },
  {
   "cell_type": "code",
   "execution_count": null,
   "metadata": {},
   "outputs": [],
   "source": [
    "n = np.arange(-5, 6)\n",
    "x = [0,0,2,2,1,1,3,3,0,0,0]\n",
    "\n",
    "plt.stem(n,x);\n",
    "plt.xlabel('$n$')\n",
    "plt.ylabel('$x[n]$')"
   ]
  },
  {
   "cell_type": "markdown",
   "metadata": {},
   "source": [
    "Note that we limited $n$ to the interval $[-5,5]$ for plotting purposes. The\n",
    "signal extends to $-\\infty$ and $\\infty$. \n"
   ]
  },
  {
   "cell_type": "markdown",
   "metadata": {},
   "source": [
    "**Exercise:** Define and plot CT, DT and digital signals (different than above) on your own. "
   ]
  },
  {
   "cell_type": "markdown",
   "metadata": {},
   "source": [
    "---\n",
    "Related content: \n",
    "\n",
    "[Explore elementary operations on signals.](in0102)\t\n",
    "\n",
    "[Explore operations on the time variable of signals.](in0103)\n",
    "\n",
    "[Decompose signals into their even and odd parts.](in0104)"
   ]
  }
 ],
 "metadata": {
  "kernelspec": {
   "display_name": "Python 3",
   "language": "python",
   "name": "python3"
  },
  "language_info": {
   "codemirror_mode": {
    "name": "ipython",
    "version": 3
   },
   "file_extension": ".py",
   "mimetype": "text/x-python",
   "name": "python",
   "nbconvert_exporter": "python",
   "pygments_lexer": "ipython3",
   "version": "3.9.18"
  }
 },
 "nbformat": 4,
 "nbformat_minor": 2
}
