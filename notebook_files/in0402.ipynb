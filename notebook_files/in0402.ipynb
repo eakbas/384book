{
 "cells": [
  {
   "cell_type": "markdown",
   "metadata": {},
   "source": [
    "# Convolution of two complex exponentials \n",
    "\n",
    "Suppose that a CT LTI system is represented by the impulse response\n",
    "$h(t)=e^{\\lambda_2t}u(t)$. What would be the output of this system for input\n",
    "$x(t)=e^{\\lambda_1t}u(t)$? The answer to this question is the convolution of\n",
    "$h(t)$ and $x(t)$: \n",
    "\n",
    "$$\n",
    "y(t) = x(t) * h(t)= \\int_{-\\infty}^\\infty x(\\tau) h(t-\\tau) d\\tau.\n",
    "$$\n",
    "\n",
    "$y(t) =  \\int_{-\\infty}^\\infty e^{\\lambda_1 \\tau}u(\\tau) e^{\\lambda_2 (t-\\tau)}u(t-\\tau) d\\tau =\n",
    "\\frac{e^{\\lambda_1t}-e^{\\lambda_2t}}{\\lambda_1-\\lambda_2}u(t).$ \n",
    "Refer to\n",
    "Exercise 4.5 in the book for the intermediate steps."
   ]
  },
  {
   "cell_type": "markdown",
   "metadata": {},
   "source": [
    "Let us verify this result for $\\lambda_1=-2$ and $\\lambda_2=-5$ using Sympy."
   ]
  },
  {
   "cell_type": "code",
   "execution_count": null,
   "metadata": {},
   "outputs": [],
   "source": [
    "import sympy as sym\n",
    "\n",
    "t, tau = sym.symbols('t tau', real=True)\n",
    "\n",
    "# input signal \n",
    "x = sym.Piecewise((0, t<0),(sym.exp(-2*t), True)) \n",
    "\n",
    "# impulse response\n",
    "h = sym.Piecewise((0, t<0),(sym.exp(-5*t), True))\n",
    "\n",
    "# convolution\n",
    "xtau = x.subs(t, tau)\n",
    "htau = h.subs(t,tau)\n",
    "y = sym.integrate(xtau*htau.subs(tau, t-tau), (tau, -sym.oo, sym.oo))\n",
    "y"
   ]
  },
  {
   "cell_type": "markdown",
   "metadata": {},
   "source": [
    "The expression above is equivalent to $\\frac{e^{-2t}-e^{-5t}}{-2+5} u(t)$. The\n",
    "plot of $y(t)$ is shown below."
   ]
  },
  {
   "cell_type": "code",
   "execution_count": null,
   "metadata": {},
   "outputs": [],
   "source": [
    "sym.plot(y, label=r'$y(t)$',legend=True);"
   ]
  },
  {
   "cell_type": "markdown",
   "metadata": {},
   "source": [
    "You can visualize and compute the values of this convolution integral at\n",
    "specific $t$ values using the following code. $y(t)$ is the area under\n",
    "$h(t-\\tau)$ weighted by $x(\\tau)$. You can try different $t$ values below. "
   ]
  },
  {
   "cell_type": "code",
   "execution_count": null,
   "metadata": {},
   "outputs": [],
   "source": [
    "import numpy as np\n",
    "t=.5\n",
    "print(\"For t =\",t)\n",
    "p1 = sym.plot(xtau, (tau, -2, 2), show=False, label=r'$x(\\tau)$', legend=True)\n",
    "p2 = sym.plot(htau.subs(tau,t-tau), (tau, -2, 2), show=False, \n",
    "              label=r'$h(t-\\tau)$', legend=True)\n",
    "p2.append(p1[0])\n",
    "p2.show()"
   ]
  },
  {
   "cell_type": "markdown",
   "metadata": {},
   "source": [
    "---\n",
    "Related content: \n",
    "\n",
    "[Explore convolution.](in0401)\n",
    "\n",
    "[Explore cross-correlation and auto-correlation.](in0403)\n",
    "\n",
    "[A convolution (cross-correlation) example from machine learning.](in0404)"
   ]
  }
 ],
 "metadata": {
  "kernelspec": {
   "display_name": "Python 3",
   "language": "python",
   "name": "python3"
  },
  "language_info": {
   "codemirror_mode": {
    "name": "ipython",
    "version": 3
   },
   "file_extension": ".py",
   "mimetype": "text/x-python",
   "name": "python",
   "nbconvert_exporter": "python",
   "pygments_lexer": "ipython3",
   "version": "3.9.18"
  }
 },
 "nbformat": 4,
 "nbformat_minor": 2
}
