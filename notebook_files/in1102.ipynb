{
 "cells": [
  {
   "cell_type": "markdown",
   "metadata": {},
   "source": [
    "# Sampling and reconstruction with first-order hold\n",
    "\n",
    "The impulse train sampling and reconstruction described in our pprevious\n",
    "notebook](in1101) is ideal for teaching how sampling and reconstruction work.\n",
    "However, in practice, it is not possible to realize zero-width, infinite-height\n",
    "impulses. First order hold sampling, also called linear interpolation, offers a\n",
    "practical method for sampling a continuous time signal in time domain. \n",
    "\n",
    "It basically corresponds to connecting the dots, where dots are sampled values.\n",
    "An example is provided in the plot below. "
   ]
  },
  {
   "cell_type": "code",
   "execution_count": null,
   "metadata": {},
   "outputs": [],
   "source": [
    "import numpy as np\n",
    "from matplotlib import pyplot as plt\n",
    "\n",
    "def x(t): \n",
    "    return np.cos(0.1*t) + 0.5*np.cos(2*t) + 0.2*np.cos(7*t)\n",
    "\n",
    "ts = np.linspace(0, 3, 100)\n",
    "xs = [x(t) for t in ts]\n",
    "\n",
    "plt.plot(ts, xs, label=r'$x(t)$')\n",
    "\n",
    "ns = np.arange(0,3.1,.5)\n",
    "plt.plot(ns, [x(t) for t in ns], 'o--', label=r'$x_r(t)$')\n",
    "plt.xlabel(r'$t$')\n",
    "plt.legend();"
   ]
  },
  {
   "cell_type": "markdown",
   "metadata": {},
   "source": [
    "The question is how can we obtain $x_r(t)$ from $x(t)$ mathematically? \n",
    "\n",
    "We can use the usual sampling and reconstruction pipeline: \n",
    "\n",
    "```{image} ./first-order-sampling.png\n",
    ":width: 450px\n",
    ":align: center\n",
    "```\n",
    "\n",
    "What should be the impulse response $h_1(t)$? To linearly interpolate between\n",
    "sampled points, the contribution of a point should be maximum at the location of\n",
    "the point itself and it should linearly decrease as you move away from the\n",
    "point. Such an effect is obtained by a triangular impulse response: "
   ]
  },
  {
   "cell_type": "code",
   "execution_count": null,
   "metadata": {},
   "outputs": [],
   "source": [
    "import sympy as sym\n",
    "\n",
    "t,T = sym.symbols('t T', real=True)\n",
    "T = 0.5 # sampling period\n",
    "h = sym.Piecewise( (0, t<-T), ((T+t)/T, t<0), ((T-t)/T, t<T), (0, True))\n",
    "sym.plot(h, (t, -3,3), ylabel=r'$h_1(t)$');"
   ]
  },
  {
   "cell_type": "markdown",
   "metadata": {},
   "source": [
    "Below, we do the sampling: "
   ]
  },
  {
   "cell_type": "code",
   "execution_count": 53,
   "metadata": {},
   "outputs": [],
   "source": [
    "# the signal\n",
    "x = sym.cos(0.1*t) + 0.5*sym.cos(2*t) + 0.2*sym.cos(7*t)\n",
    "\n",
    "# sampling period \n",
    "T = 0.5\n",
    "n = sym.symbols('n', integer=True)\n",
    "\n",
    "# we create a temporary function f, which we will call to get values of x_p\n",
    "f = sym.Lambda(n, x.subs(t, n*T))\n",
    "\n",
    "import numpy as np\n",
    "\n",
    "# here we sample the signal for integer n values from -100 to 100.\n",
    "# Theoretically, we should do the sampling from minus infinity to plus infinity\n",
    "# but for practical reasons, we limit this. \n",
    "ns = np.arange(-100,100)\n",
    "xp = [f(i) for i in ns]\n"
   ]
  },
  {
   "cell_type": "markdown",
   "metadata": {},
   "source": [
    "And, then reconstruction, which is simply convolving $x_p(t)$ with $h_1(t)$: "
   ]
  },
  {
   "cell_type": "code",
   "execution_count": 55,
   "metadata": {},
   "outputs": [],
   "source": [
    "# interpolation filter, h1(t)\n",
    "h = sym.Piecewise( (0, t<-T), ((T+t)/T, t<0), ((T-t)/T, t<T), (0, True))\n",
    "\n",
    "# reconstruction\n",
    "xr = sum(x.subs(t,ns[i]*T) * h.subs(t, t-ns[i]*T) for i in ns)"
   ]
  },
  {
   "cell_type": "markdown",
   "metadata": {},
   "source": [
    "When we plot $x(t)$ and $x_r(t)$, we observe that $x_r(t)$ linearly interpolates\n",
    "$x(t)$ with sampling period $T=0.5$. "
   ]
  },
  {
   "cell_type": "code",
   "execution_count": null,
   "metadata": {},
   "outputs": [],
   "source": [
    "p1 = sym.plot(xr, (t, 0, 2*sym.pi), label=r'$x_r(t)$', ylabel='', legend=True, show=False);\n",
    "p2 = sym.plot(x, (t, 0, 2*sym.pi), label=r'$x(t)$', ylabel='', legend=True, show=False)\n",
    "p2.extend(p1)\n",
    "p2.show()"
   ]
  },
  {
   "cell_type": "markdown",
   "metadata": {},
   "source": []
  },
  {
   "cell_type": "markdown",
   "metadata": {},
   "source": [
    "---\n",
    "Related content: \n",
    "\n",
    "[Sampling and reconstruction of a continuous time signal.](in1101)\n",
    "\n",
    "[Sampling and reconstruction of a discrete time signal.](in1201)"
   ]
  }
 ],
 "metadata": {
  "kernelspec": {
   "display_name": "Python 3",
   "language": "python",
   "name": "python3"
  },
  "language_info": {
   "codemirror_mode": {
    "name": "ipython",
    "version": 3
   },
   "file_extension": ".py",
   "mimetype": "text/x-python",
   "name": "python",
   "nbconvert_exporter": "python",
   "pygments_lexer": "ipython3",
   "version": "3.9.18"
  }
 },
 "nbformat": 4,
 "nbformat_minor": 2
}
