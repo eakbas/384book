{
 "cells": [
  {
   "cell_type": "markdown",
   "metadata": {},
   "source": [
    "# Gibbs phenomenon\n",
    "\n",
    "The synthesis equation of Fourier Theorem reconstructs a continuous time\n",
    "periodic signal using an infinite sum: \n",
    "\n",
    "$$\n",
    "    x(t)=\\sum_{k=-\\infty}^{\\infty}a_k e^{jk\\omega_0 t}. \n",
    "$$\n",
    "\n",
    "When we \"truncate\" this sum, we basically do an approximate reconstruction: \n",
    "\n",
    "\n",
    "$$\n",
    "    x_N(t)=\\sum_{k=-N}^{N}a_k e^{jk\\omega_0 t}. \n",
    "$$\n",
    "\n",
    "As we increase $N$, the function gets better\n",
    "approximated by the series sum. The energy of the error between the original function and its\n",
    "truncated reconstruction can be defined as \n",
    "\n",
    "\\begin{equation}\n",
    "\tE_N = \\int_{-\\infty}^\\infty \\lvert x(t)-x_N(t)\\rvert^2 dt.\n",
    "\\end{equation} \n",
    "\n",
    "We expect that as we increase $N$, the energy of the error gets smaller.\n",
    "However, there is a peculiar behavior of the Fourier series while approximating\n",
    "the functions, which have discontinuities. As we increase $N$,\n",
    "the width of the ripples around the discontinuities decreases and converges to\n",
    "a constant value of oscillation around the discontinuities. This behavior is\n",
    "known as the \\textbf{Gibbs phenomenon}.\n"
   ]
  },
  {
   "cell_type": "markdown",
   "metadata": {},
   "source": [
    "Let us observe this phenomenon on a rectangular function below. "
   ]
  },
  {
   "cell_type": "code",
   "execution_count": null,
   "metadata": {},
   "outputs": [],
   "source": [
    "import numpy as np\n",
    "from matplotlib import pyplot as plt \n",
    "x = np.linspace(0,4,5000)\n",
    "\n",
    "square_wave = 1 - 2 * (x.astype(int) % 2)\n",
    "\n",
    "N = 5\n",
    "fsq = np.zeros_like(x)\n",
    "for i in range(N):\n",
    "    n = 2*i + 1\n",
    "    fsq += np.sin(n * np.pi *x) / n\n",
    "fsq *= 4 / np.pi\n",
    "\n",
    "fig, ax = plt.subplots()\n",
    "ax.plot(x, square_wave)\n",
    "ax.plot(x, fsq, 'k')\n",
    "ax.set_ylim(-1.5,1.5)\n",
    "ax.set_xlim(1.4, 3.6)\n",
    "ax.text(3.2, .25, (r'$N=%d$' % N));"
   ]
  },
  {
   "cell_type": "markdown",
   "metadata": {},
   "source": [
    "The plot above is for $N=5$.  As we increase $N$, the approximation gets better.\n",
    "However, no matter how high $N$ is, there will be a discrepancy\n",
    "between the original signal (blue) and its approximation (blue) around the\n",
    "discontinuties.  Observe this phenomenon yourself by changing the value of $N$ \n",
    "above and re-running the code. "
   ]
  },
  {
   "cell_type": "markdown",
   "metadata": {},
   "source": [
    "---\n",
    "Related content: \n",
    "\n",
    "[Explore Fourier series representation for continuous time periodic signals.](in0601)\n",
    "\n",
    "[An example on the duality of convolution and multiplication.](in0603) \n",
    "\n",
    "[Explore trigonometric waveforms.](in0604)"
   ]
  }
 ],
 "metadata": {
  "kernelspec": {
   "display_name": "Python 3",
   "language": "python",
   "name": "python3"
  },
  "language_info": {
   "codemirror_mode": {
    "name": "ipython",
    "version": 3
   },
   "file_extension": ".py",
   "mimetype": "text/x-python",
   "name": "python",
   "nbconvert_exporter": "python",
   "pygments_lexer": "ipython3",
   "version": "3.9.18"
  }
 },
 "nbformat": 4,
 "nbformat_minor": 2
}
