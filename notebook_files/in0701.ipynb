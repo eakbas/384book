{
 "cells": [
  {
   "cell_type": "markdown",
   "metadata": {},
   "source": [
    "# Fourier series representation for discrete time periodic signals\n",
    "\n",
    "A discrete time periodic signal $x[n]$ with  fundamental period $N$, can be\n",
    "decomposed into  harmonically related complex exponentials, $e^{j k \\omega_{0}\n",
    "n} ,$  weighted by a set of coefficients, called the spectral coefficients,\n",
    "${a_k}$, as follows:\n",
    "\t\n",
    "$$\n",
    "x[n] = \\sum_{k=<N>}^{} a_{k} e^{j k \\omega_{0} n} \\quad\n",
    "\t\t\\text{(Synthesis equation)}\n",
    "$$\n",
    "\t\n",
    "where the spectral coefficients are uniquely obtained from\n",
    "\t\n",
    "$$\n",
    "a_{k} = \\frac{1}{N} \\sum_{n=<N>}^{} x[n] e^{- j k \\omega_{0} n}\\quad \\text{(Analysis equation)}\n",
    "$$\n",
    "\t\n",
    "$<N>$ indicates $N$ successive integers to cover one full range of fundamental period. \n",
    "\t\n",
    "The spectral coefficients, $a_k$, are periodic with period $N$, that is, we\n",
    "have  $a_{k}=a_{k+N}, \\forall k\\in(-\\infty,\\infty)$.  "
   ]
  }
 ],
 "metadata": {
  "language_info": {
   "name": "python"
  }
 },
 "nbformat": 4,
 "nbformat_minor": 2
}
