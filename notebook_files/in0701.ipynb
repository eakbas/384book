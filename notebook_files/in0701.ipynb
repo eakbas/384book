{
 "cells": [
  {
   "cell_type": "markdown",
   "metadata": {},
   "source": [
    "# Fourier series representation for discrete time periodic signals\n",
    "\n",
    "A discrete time periodic signal $x[n]$ with  fundamental period $N$, can be\n",
    "decomposed into  harmonically related complex exponentials, $e^{j k \\omega_{0}\n",
    "n} ,$  weighted by a set of coefficients, called the spectral coefficients,\n",
    "${a_k}$, as follows:\n",
    "\t\n",
    "$$\n",
    "x[n] = \\sum_{k=<N>}^{} a_{k} e^{j k \\omega_{0} n} \\quad\n",
    "\t\t\\text{(Synthesis equation)}\n",
    "$$\n",
    "\t\n",
    "where the spectral coefficients are uniquely obtained from\n",
    "\t\n",
    "$$\n",
    "a_{k} = \\frac{1}{N} \\sum_{n=<N>}^{} x[n] e^{- j k \\omega_{0} n}\\quad \\text{(Analysis equation)}\n",
    "$$\n",
    "\t\n",
    "$<N>$ indicates $N$ successive integers to cover one full range of fundamental period. \n",
    "\t\n",
    "The spectral coefficients, $a_k$, are periodic with period $N$, that is, we\n",
    "have  $a_{k}=a_{k+N}, \\forall k\\in(-\\infty,\\infty)$.  "
   ]
  },
  {
   "cell_type": "markdown",
   "metadata": {},
   "source": [
    "Let us compute the spectral coefficients of $x[n]=\\sin(0.2 \\pi n)$. \n",
    "\n",
    "This is a periodic signal with period $N=10$ since \n",
    "$\\omega_0 = 0.2\\pi =\\frac{2\\pi}{N}m$, where $m, N$ are integers. The smallest\n",
    "value for the fundamental period $N$ is obtained for $m=1$, which yields $N=10$. \n",
    "\n",
    "It is straightforward to obtain the spectral coefficients of $x[n]$ by using the Euler's formula: \n",
    "\n",
    "$$\n",
    "x[n] = \\sin(0.2 \\pi n) = \\frac{1}{2j} \\left( e^{j 0.2\\pi n} - e^{-j 0.2\\pi\n",
    "n}\\right), \n",
    "$$\n",
    "\n",
    "\n",
    "which yields $a_1 = \\frac{1}{2j}$ and $a_{-1} = -\\frac{1}{2j}$.\n",
    "\n",
    "Let us now verify this result using Python in two different ways. First, using\n",
    "the Euler's formula. It is possible to re-write the function $x[n]$ in Euler's\n",
    "form using SymPy's `rewrite` function as shown below. "
   ]
  },
  {
   "cell_type": "code",
   "execution_count": null,
   "metadata": {},
   "outputs": [],
   "source": [
    "import sympy as sym\n",
    "\n",
    "n = sym.symbols('n', integer=True)\n",
    "\n",
    "x = sym.sin(0.2*sym.pi*n)\n",
    "\n",
    "x.rewrite(sym.exp)  # this line does the trick"
   ]
  },
  {
   "cell_type": "markdown",
   "metadata": {},
   "source": [
    "Next, we will use numpy to directly evaluate the analysis equation: "
   ]
  },
  {
   "cell_type": "code",
   "execution_count": null,
   "metadata": {},
   "outputs": [],
   "source": [
    "import numpy as np\n",
    "N = 10\n",
    "omega0 = 0.2*np.pi \n",
    "\n",
    "x = np.sin(0.2*np.pi*np.array(range(0,N,1))) # the signal \n",
    "\n",
    "a = np.zeros(N, dtype=np.complex64)\n",
    "for k in range(0,N,1): \n",
    "    sum = 0\n",
    "    for n in range(0,N,1): \n",
    "        sum += x[n]*np.exp(-1j*k*omega0*n)\n",
    "    a[k] = np.around(sum, decimals=2)/N\n",
    "    print(\"a_{0}={1}\".format(k, a[k]))"
   ]
  },
  {
   "cell_type": "markdown",
   "metadata": {},
   "source": [
    "These values are the same as the ones we obtained above both analytically and\n",
    "using SymPy. The verification is left for the reader as an exercise. (Hint: $a_k\n",
    "= a_{k+N}$)"
   ]
  },
  {
   "cell_type": "markdown",
   "metadata": {},
   "source": [
    "Let us apply the numpy method above to another signal: find the spectral\n",
    "coefficients of $x[n] = 1 + \\sin\\left(\\frac{\\pi}{5}n\\right) +\n",
    "\\cos\\left(\\frac{2\\pi}{5}n + \\frac{\\pi}{2}\\right)$ (Exercise 7.2 in the book).\n",
    "Here is the signal:"
   ]
  },
  {
   "cell_type": "code",
   "execution_count": null,
   "metadata": {},
   "outputs": [],
   "source": [
    "N = 10\n",
    "omega0 = np.pi/5 \n",
    "\n",
    "ns = np.array(range(0,N,1))\n",
    "x = 1 + np.sin((np.pi/5)*ns) + np.cos(2*(np.pi/5)*ns + np.pi/2)  # the signal\n",
    "\n",
    "# plot the signal\n",
    "from matplotlib import pyplot as plt\n",
    "plt.stem(ns,x)\n",
    "plt.xlabel(r'$n$'), plt.ylabel(r'$x[n]$');"
   ]
  },
  {
   "cell_type": "markdown",
   "metadata": {},
   "source": [
    "Its spectral coefficients are: "
   ]
  },
  {
   "cell_type": "code",
   "execution_count": null,
   "metadata": {},
   "outputs": [],
   "source": [
    "\n",
    "a = np.zeros(N, dtype=np.complex64)\n",
    "for k in range(0,N,1): \n",
    "    sum = 0\n",
    "    for n in range(0,N,1): \n",
    "        sum += x[n]*np.exp(-1j*k*omega0*n)\n",
    "    a[k] = np.around(sum, decimals=2)/N\n",
    "    print(\"a_{0}={1}\".format(k, a[k]))"
   ]
  }
 ],
 "metadata": {
  "kernelspec": {
   "display_name": "Python 3",
   "language": "python",
   "name": "python3"
  },
  "language_info": {
   "codemirror_mode": {
    "name": "ipython",
    "version": 3
   },
   "file_extension": ".py",
   "mimetype": "text/x-python",
   "name": "python",
   "nbconvert_exporter": "python",
   "pygments_lexer": "ipython3",
   "version": "3.9.18"
  }
 },
 "nbformat": 4,
 "nbformat_minor": 2
}
