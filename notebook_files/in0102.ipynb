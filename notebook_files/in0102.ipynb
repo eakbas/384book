{
 "cells": [
  {
   "cell_type": "markdown",
   "metadata": {},
   "source": [
    "# Elementary operations on signals\n",
    "\n",
    "Here we will explore addition and scaling operations on signals. "
   ]
  },
  {
   "cell_type": "markdown",
   "metadata": {},
   "source": [
    "Consider the following CT signal: \n",
    "\n",
    "$x(t)=\\cos(t)$. "
   ]
  },
  {
   "cell_type": "markdown",
   "metadata": {},
   "source": [
    "You can add a constant `b` to this signal. Let us see the effect of this\n",
    "operation by plotting the new signal: \n",
    "\n",
    "$y(t)=x(t)+b=\\cos(t)+b$."
   ]
  },
  {
   "cell_type": "code",
   "execution_count": null,
   "metadata": {},
   "outputs": [],
   "source": [
    "import sympy as sym\n",
    "\n",
    "t = sym.symbols('t', real=True)\n",
    "\n",
    "# scalar constant\n",
    "b = 1\n",
    "\n",
    "# the signals:\n",
    "x = sym.cos(t)\n",
    "y = sym.cos(t)+b\n",
    "\n",
    "p1 = sym.plot(x, (t, 0, 2*sym.pi), legend=True, label='cos(t)', show=False);\n",
    "p2 = sym.plot(y, (t, 0, 2*sym.pi), legend=True, label='cos(t)+b', show=False);\n",
    "\n",
    "p1.append(p2[0])\n",
    "p1.show()"
   ]
  },
  {
   "cell_type": "markdown",
   "metadata": {},
   "source": [
    "Change the value of constant `b` above to see its effect. "
   ]
  },
  {
   "cell_type": "markdown",
   "metadata": {},
   "source": [
    "When you multiply a signal with a scalar number, the value of the signal scales\n",
    "accordingly. Observe the plots of $x(t)$ and $y(t)$ below. "
   ]
  },
  {
   "cell_type": "code",
   "execution_count": null,
   "metadata": {},
   "outputs": [],
   "source": [
    "# scalar constant\n",
    "a = 0.5\n",
    "\n",
    "# the signal:\n",
    "x = sym.cos(t)\n",
    "y = a*sym.cos(t)\n",
    "\n",
    "p1 = sym.plot(x, (t, 0, 2*sym.pi), legend=True, label='cos(t)', show=False);\n",
    "p2 = sym.plot(y, (t, 0, 2*sym.pi), legend=True, label='a cos(t)', show=False);\n",
    "\n",
    "p1.append(p2[0])\n",
    "p1.show()"
   ]
  },
  {
   "cell_type": "markdown",
   "metadata": {},
   "source": [
    "You can combine both operations to obtain: \n",
    "\n",
    "$y(t) = a x(t) + b$.\n",
    "\n",
    "Change the values of `a` and `b` below to see their effects. "
   ]
  },
  {
   "cell_type": "code",
   "execution_count": null,
   "metadata": {},
   "outputs": [],
   "source": [
    "# scalar constant\n",
    "a = 0.5\n",
    "b = -0.5\n",
    "\n",
    "# the signal:\n",
    "x = sym.cos(t)\n",
    "y = a*sym.cos(t)+b\n",
    "\n",
    "p1 = sym.plot(x, (t, 0, 2*sym.pi), legend=True, label='cos(t)', show=False);\n",
    "p2 = sym.plot(y, (t, 0, 2*sym.pi), legend=True, label='a cos(t)+b', show=False);\n",
    "\n",
    "p1.append(p2[0])\n",
    "p1.show()"
   ]
  },
  {
   "cell_type": "markdown",
   "metadata": {},
   "source": [
    "We can also add two or more signals together to obtain a more complicated\n",
    "signal. \n",
    "\n",
    "Let us now create two signals, $x$ and $y$, and add them to obtain a third\n",
    "signal, $z$. Let \n",
    "\n",
    "$x(t) = \\cos(t) -\\frac{1}{2}$,\n",
    "\n",
    "$y(t) = \\frac{1}{5} t $, and \n",
    "\n",
    "$z(t) = x(t) + y(t)$. \n",
    "\n",
    "The following code creates $z(t)$ and plots it. "
   ]
  },
  {
   "cell_type": "code",
   "execution_count": null,
   "metadata": {},
   "outputs": [],
   "source": [
    "x = sym.cos(t)-0.5\n",
    "y = 0.2*t\n",
    "z = x + y\n",
    "\n",
    "sym.plot(z);"
   ]
  },
  {
   "cell_type": "markdown",
   "metadata": {},
   "source": [
    "**Exercise:** Play with the coefficients of $x$, $y$, and $t$ above. Observe\n",
    "how the shape of $z(t)$ changes. "
   ]
  },
  {
   "cell_type": "markdown",
   "metadata": {},
   "source": [
    "---\n",
    "Related content: \n",
    "\n",
    "[Explore different types of signals.](in0101)\n",
    "\n",
    "[Explore operations on the time variable of signals.](in0103)\n",
    "\n",
    "[Decompose signals into their even and odd parts.](in0104)"
   ]
  }
 ],
 "metadata": {
  "kernelspec": {
   "display_name": "Python 3",
   "language": "python",
   "name": "python3"
  },
  "language_info": {
   "codemirror_mode": {
    "name": "ipython",
    "version": 3
   },
   "file_extension": ".py",
   "mimetype": "text/x-python",
   "name": "python",
   "nbconvert_exporter": "python",
   "pygments_lexer": "ipython3",
   "version": "3.9.18"
  }
 },
 "nbformat": 4,
 "nbformat_minor": 2
}
