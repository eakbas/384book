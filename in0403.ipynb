{
 "cells": [
  {
   "cell_type": "markdown",
   "metadata": {},
   "source": [
    "# Cross-correlation \n",
    "\n",
    "Cross-correlation or correlation operation between two continuous time signals\n",
    "$x(t)$ and $h(t)$ is defined as \n",
    "\n",
    "$$\n",
    "y(t)= \\int_{-\\infty}^{\\infty}x^*(\\tau)h(t+\\tau)d\\tau=x(t)\\star h(t), \n",
    "$$\n",
    "\n",
    "where $x^*(\\tau)$ represents the complex conjugate of $x(\\tau)$. \n",
    "\n",
    "Note that the only difference between this operation and convolution is that in\n",
    "convolution, we have $h(t-\\tau)$ and in correlation, we have $h(t+\\tau)$. \n",
    "\n",
    "Cross-correlation or correlation operation between two discrete time signals\n",
    "$x[n]$ and $h[n]$ is defined as \n",
    "\t\n",
    "$$\n",
    "y[n]= \\sum_{k=-\\infty}^{\\infty}x[k]^*h[n+k]=x[n]\\star h[n].\n",
    "$$"
   ]
  },
  {
   "cell_type": "markdown",
   "metadata": {},
   "source": [
    "Cross-correlation operation measures the degree of containment of one\n",
    "signal in the other signal. Since it avoids the time reverse operation, it is\n",
    "preferred in many application domains.  Let us develop an example with DT signals. "
   ]
  },
  {
   "cell_type": "code",
   "execution_count": null,
   "metadata": {},
   "outputs": [],
   "source": [
    "# let's create a DT signal containing random values between -1 and 1\n",
    "import numpy as np \n",
    "np.random.seed(0)   # fix the random seed for reproducibility \n",
    "x = 2*(np.random.rand(100,)-0.5)\n",
    "\n",
    "from matplotlib import pyplot as plt\n",
    "plt.stem(x);"
   ]
  },
  {
   "cell_type": "markdown",
   "metadata": {},
   "source": [
    "In theory, the signal $x[n]$ extends to minus and plus infinity but for\n",
    "practical purposes, we represent it with a finite array as above. \n",
    "\n",
    "Now, let us create another random signal and embed it in $x$. "
   ]
  },
  {
   "cell_type": "code",
   "execution_count": null,
   "metadata": {},
   "outputs": [],
   "source": [
    "# create another signal with random values: \n",
    "h = 2*(np.random.rand(10,)-0.5)\n",
    "plt.figure(), plt.stem(h);\n",
    "\n",
    "# embed it in x at location 19. The choice of 19 is arbitrary \n",
    "x[19:29] = h\n",
    "\n",
    "# plot x again\n",
    "plt.figure(),plt.stem(x);"
   ]
  },
  {
   "cell_type": "markdown",
   "metadata": {},
   "source": [
    "Now let us search for $h$ in $x$. It is a tedious task to do manually (by eye).\n",
    "Instead, we will simply apply cross-correlation operation to $x$ and $h$. The\n",
    "location with the highest response would give us the correct location: "
   ]
  },
  {
   "cell_type": "code",
   "execution_count": null,
   "metadata": {},
   "outputs": [],
   "source": [
    "y = np.correlate(x,h)\n",
    "plt.stem(y)\n",
    "print(\"location with highest response: \", np.argmax(y))"
   ]
  },
  {
   "cell_type": "markdown",
   "metadata": {},
   "source": [
    "# Auto correlation \n",
    "\n",
    "Auto-correlation operation of a continuous time   signal  $x(t)$ is defined as \n",
    "\t\n",
    "$$\n",
    "y(t)= x(t)\\star x(t)=\\int_{-\\infty}^{\\infty}x^*(\\tau)x(t+\\tau)d\\tau.\n",
    "$$\n",
    "\n",
    "Similarly auto-correlation operation of a discrete time signal $x[n]$ is defined\n",
    "as \n",
    " \n",
    "$$\n",
    "y[n]= x[n]\\star x[n]=\\sum_{k= -\\infty}^{\\infty}x^*[k]x[n+k].\n",
    "$$\n",
    "\n",
    "Auto-correlation  measures the correlation of a signal with a\n",
    "lagged copy of itself as a function of the lag. It measures the similarity\n",
    "between different time instances of a function. This operation can be used to\n",
    "discover periodicities in signals and determine their periods as illustrated in\n",
    "the example below. "
   ]
  },
  {
   "cell_type": "markdown",
   "metadata": {},
   "source": [
    "Suppose that we are given the following discrete time signal, and our task is to\n",
    "find out whether it presents periodicity and if so, its period. "
   ]
  },
  {
   "cell_type": "code",
   "execution_count": null,
   "metadata": {},
   "outputs": [],
   "source": [
    "x = np.array([-0.249, 1.012,-0.842, 0.287,-0.069,-0.248,-0.106, 0.125,-0.043, 0.028,\n",
    " -0.675,-0.166,-1.805, 0.135,-2.37 ,-0.272,-0.763,-0.005,-0.903,-0.395,\n",
    "  1.682, 2.355, 0.439, 1.498, 1.854, 1.621,-1.151,-1.645,-1.575, 0.302,\n",
    " -2.179,-1.228, 0.491,-0.562, 0.22 ,-0.559, 0.906, 1.658,-0.567, 1.741,\n",
    "  2.443, 1.582,-0.066, 1.14 ,-1.274,-0.584, 0.508,-1.536,-1.635,-2.063,\n",
    " -2.228, 0.017,-1.051,-0.532, 0.481,-0.563, 1.171,-0.06 , 1.191, 1.328,\n",
    " -0.751,-0.159, 0.326,-0.838,-2.18 ,-0.865,-0.501,-0.84 , 0.668,-0.101,\n",
    "  1.2  ,-0.746,-0.432, 1.798, 0.682,-0.027, 2.123, 0.14 , 1.029, 0.6  ,\n",
    "  0.726,-0.344,-0.162,-1.452,-1.645, 0.398,-0.739, 1.204, 0.656, 0.867,\n",
    " -0.382, 2.295, 0.849, 1.16 , 0.457,-0.343, 1.314,-0.031,-2.068,-0.475])\n",
    "step = 0.28559933214452665\n",
    "plt.stem(np.arange(0,100*step, step),x);\n",
    "plt.xlabel('n');\n",
    "plt.ylabel('x[n]');"
   ]
  },
  {
   "cell_type": "markdown",
   "metadata": {},
   "source": [
    "Note that this is a discrete time signal, therefore, it extends to minus and\n",
    "plus infinities. However, for practical reasons, we only show a part of it,\n",
    "representing it with a finite array, as shown above. \n",
    "\n",
    "At  first glance, it is not immediately clear whether the signal is periodic. To\n",
    "investigate this, we can apply the auto-correlation operation for analysis. \n",
    "\n",
    "Remember, the auto-correlation operation measures the correlation of a signal with a\n",
    "lagged copy of itself as a function of the lag. Since the length of the given\n",
    "sequence is 100, the time indices for the lagged copy will run from -49 to +49.\n",
    "The auto-correlation result is given below. "
   ]
  },
  {
   "cell_type": "code",
   "execution_count": null,
   "metadata": {},
   "outputs": [],
   "source": [
    "y = np.correlate(x,x, mode='full')\n",
    "plt.plot(np.linspace(-step*99,step*99,199), y);\n",
    "plt.xlabel('time lag');\n",
    "plt.ylabel('auto-correlation');\n"
   ]
  },
  {
   "cell_type": "markdown",
   "metadata": {},
   "source": [
    "Let us zoom in to the positive time axis: "
   ]
  },
  {
   "cell_type": "code",
   "execution_count": null,
   "metadata": {},
   "outputs": [],
   "source": [
    "plt.plot(np.linspace(-step*99,step*99,199), y);\n",
    "plt.xlabel('time lag');\n",
    "plt.ylabel('auto-correlation');\n",
    "plt.xlim((0,25));"
   ]
  },
  {
   "cell_type": "markdown",
   "metadata": {},
   "source": [
    "Do you notice the pattern? There are peaks at 0, 5, 10, 15, 20, i.e. at every\n",
    "time lag value of 5. This means that at every time lag value of 5, the\n",
    "correlation is high, which suggests overlapping parts of x and its time-lagged\n",
    "copy are very similar. From this observation, we can conclude that x might be\n",
    "periodic and the period is 5. \n",
    "\n",
    "By the way, we should have plotted `y` using `stem`, however, a line plot\n",
    "(obtained by `plot`) better reveals the peaks. "
   ]
  },
  {
   "cell_type": "markdown",
   "metadata": {},
   "source": [
    "In fact, here is the code we used to produce `x`: "
   ]
  },
  {
   "cell_type": "code",
   "execution_count": null,
   "metadata": {},
   "outputs": [],
   "source": [
    "n,step = np.linspace(0,9*np.pi, 100, retstep=True)\n",
    "np.random.seed(1) # fixed for reproducibility\n",
    "x = np.sin(n*(2*np.pi/5)) + 3*(np.random.rand(100,)-.5)\n",
    "plt.stem(n, x);\n",
    "\n",
    "# print(np.array2string(x, precision=3, separator=','))"
   ]
  },
  {
   "cell_type": "markdown",
   "metadata": {},
   "source": [
    "Indeed, the signal is $x[n]=\\sin(\\frac{2\\pi}{5}  n)$, whose period is $5$! "
   ]
  },
  {
   "cell_type": "markdown",
   "metadata": {},
   "source": [
    "---\n",
    "Related content: \n",
    "\n",
    "[Explore convolution.](in0401)\n",
    "\n",
    "[Explore convolution of two exponential functions.](in0402)\n",
    "\n",
    "[A convolution (cross-correlation) example from machine learning.](in0404)"
   ]
  }
 ],
 "metadata": {
  "kernelspec": {
   "display_name": "Python 3",
   "language": "python",
   "name": "python3"
  },
  "language_info": {
   "codemirror_mode": {
    "name": "ipython",
    "version": 3
   },
   "file_extension": ".py",
   "mimetype": "text/x-python",
   "name": "python",
   "nbconvert_exporter": "python",
   "pygments_lexer": "ipython3",
   "version": "3.9.18"
  }
 },
 "nbformat": 4,
 "nbformat_minor": 2
}
