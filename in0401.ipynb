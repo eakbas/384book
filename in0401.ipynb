{
 "cells": [
  {
   "cell_type": "markdown",
   "metadata": {},
   "source": [
    "# Convolution \n",
    "\n",
    "The convolution of two continuous time (CT) signals, $x(t)$ and $y(t)$, is defined as follows: \n",
    "\n",
    "$$\n",
    "z(t) = x(t) * y(t)= \\int_{-\\infty}^\\infty x(\\tau) y(t-\\tau) d\\tau. \n",
    "$$\n",
    "\n",
    "\n",
    "Let us  see how convolution works step by step. We will use two rectangular\n",
    "pulse functions for ease of illustration. First, let us create these functions\n",
    "and plot them. "
   ]
  },
  {
   "cell_type": "code",
   "execution_count": null,
   "metadata": {},
   "outputs": [],
   "source": [
    "import sympy as sym\n",
    "\n",
    "t = sym.symbols('t', real=True)\n",
    "\n",
    "# define a pretty printing function\n",
    "from IPython.display import display, Math, Latex\n",
    "def print_latex(str, x):\n",
    "    display(Math(str + \"=\" + sym.latex(x)))\n",
    "\n",
    "# define the first rectangular pulse. Width=1, height=1\n",
    "x = sym.Piecewise( (0, t<0), (0, t>1), (1, True))\n",
    "print_latex(\"x(t)\", x)\n",
    "\n",
    "# and plot it\n",
    "sym.plot(x, (t, -1.2, 2.2), ylim=[-0.1, 1.3], ylabel=r'$x(t)$');\n",
    "\n",
    "\n",
    "# define the second rectangular pulse. Width=1, height=0.5\n",
    "y = sym.Piecewise( (0, t<-0), (0, t>1), (0.5, True))\n",
    "print_latex(\"y(t)\", y)\n",
    "\n",
    "# and plot it\n",
    "sym.plot(y, (t, -1.2, 2.2), ylim=[-0.1, 1.3], ylabel=r'$y(t)$', line_color='red');"
   ]
  },
  {
   "cell_type": "markdown",
   "metadata": {},
   "source": [
    "Before showing intermediate steps, let us find out the solution and plot it. We\n",
    "can easily evaluate the convolution integral using Sympy's `integrate()` function as shown below. "
   ]
  },
  {
   "cell_type": "code",
   "execution_count": null,
   "metadata": {},
   "outputs": [],
   "source": [
    "# variable of integration\n",
    "tau = sym.symbols('tau', real=True)\n",
    "\n",
    "# convolution integral\n",
    "z = sym.integrate(x.subs(t, tau)*y.subs(t, t-tau), (tau, -sym.oo, sym.oo))\n",
    "print_latex(\"z(t)\",z)\n",
    "\n",
    "sym.plot(z, (t, -1, 3),  ylabel=r'$z(t)$');"
   ]
  },
  {
   "cell_type": "markdown",
   "metadata": {},
   "source": [
    "So, the result is a triangular pulse. Now let us understand how we obtained this\n",
    "result, step by step. First, let us implement a helper function to  plot\n",
    "$x(t)$ and $y(t)$ on the same figure. "
   ]
  },
  {
   "cell_type": "code",
   "execution_count": null,
   "metadata": {},
   "outputs": [],
   "source": [
    "# plots t vs x and t vs y\n",
    "def plot_xy(t, x,namex, y, namey):\n",
    "    px = sym.plot(x, (t, -3, 3), legend=True, label=namex, ylabel=\"\",\n",
    "                  line_color='blue', show=False);\n",
    "    py = sym.plot(y, (t, -3, 3), legend=True, label=namey, ylabel=\"\",\n",
    "                  line_color='red',  show=False);\n",
    "    px.append(py[0])\n",
    "    px.show();\n",
    "    return px\n",
    "\n",
    "plot_xy(t, x,\"x(t)\", y, \"y(t)\");"
   ]
  },
  {
   "cell_type": "markdown",
   "metadata": {},
   "source": [
    "Let us now follow the steps given in Section 4.1.3 in the book. \n",
    "\n",
    "#### Step 1\n",
    "We would like to compute $x(t)*y(t)$. The first step is to change the time\n",
    "variable $t$ to the variable of integration \n",
    "$\\tau$. Now, instead of having $x(t)$ and $y(t)$, we have $x(\\tau)$ and\n",
    "$y(\\tau)$. "
   ]
  },
  {
   "cell_type": "code",
   "execution_count": null,
   "metadata": {},
   "outputs": [],
   "source": [
    "tau = sym.symbols('tau', real=True)\n",
    "\n",
    "xtau = x.subs(t, tau)\n",
    "ytau = y.subs(t, tau)"
   ]
  },
  {
   "cell_type": "markdown",
   "metadata": {},
   "source": [
    "#### Step 2\n",
    "The second step is to time-reverse the second signal, i.e. in this case,\n",
    "$y(\\tau)$, to obtain $y(-\\tau)$. However, note that the convolution is\n",
    "commutative, that is, $x(t)*y(t)$ is equivalent to $y(t)*x(t)$. "
   ]
  },
  {
   "cell_type": "code",
   "execution_count": null,
   "metadata": {},
   "outputs": [],
   "source": [
    "plot_xy(tau, xtau, r'$x(\\tau)$', ytau.subs(tau,-tau), r'$y(-\\tau)$');"
   ]
  },
  {
   "cell_type": "markdown",
   "metadata": {},
   "source": [
    "#### Step 3\n",
    "Now we shift $y(-\\tau)$ by $t$, to obtain $y(t-\\tau)$. Below, you can see\n",
    "$y(t-\\tau)$ for different values of $t$. "
   ]
  },
  {
   "cell_type": "code",
   "execution_count": null,
   "metadata": {},
   "outputs": [],
   "source": [
    "for t in [-1, 0.5, 2]:\n",
    "    print(\"For t =\", t)\n",
    "    plot_xy(tau, xtau, r'$x(\\tau)$', ytau.subs(tau,t-tau), r'$y(-1-\\tau)$');"
   ]
  },
  {
   "cell_type": "markdown",
   "metadata": {},
   "source": [
    "#### Step 4\n",
    "\n",
    "Now let us take one of the values of $t$ and compute the convolution integral.\n",
    "For example, for $t=0.5$, the convolution integral is  \n",
    "\n",
    "$$\n",
    "z(0.5) = \\int_{-\\infty}^\\infty x(\\tau) y(0.5-\\tau) d\\tau.  \n",
    "$$\n",
    "\n",
    "This expression calculates the integral of the multiplication of two functions,\n",
    "which corresponds to the area under $y(t-\\tau)$ weighted by $x(\\tau)$. This area\n",
    "is marked with yellow color below. "
   ]
  },
  {
   "cell_type": "code",
   "execution_count": null,
   "metadata": {},
   "outputs": [],
   "source": [
    "import numpy as np\n",
    "t=.5\n",
    "print(\"For t =\",t)\n",
    "p1 = sym.plot(xtau, (tau, -2, 2), show=False)\n",
    "p2 = sym.plot(ytau.subs(tau,t-tau), (tau, -2, 2), show=False)\n",
    "xarray = np.linspace(-2, 2, 500)\n",
    "\n",
    "xval = np.array([xtau.subs(tau, val) for val in xarray], dtype=float)\n",
    "yval = np.array([ytau.subs(tau, t-val) for val in xarray], dtype=float)\n",
    "\n",
    "#yarray = np.min(xtau.eval(xarray), ytau.subs(tau,t-tau).eval(xarray))\n",
    "p3 = sym.plot(fill={'x':xarray, 'y1': np.minimum(xval,yval), 'edgecolor':'none', \n",
    "                                      'facecolor':'yellow'}, show=False)\n",
    "p3.append(p1[0])\n",
    "p3.append(p2[0])\n",
    "p3.show()\n"
   ]
  },
  {
   "cell_type": "markdown",
   "metadata": {},
   "source": [
    "You can change the value of $t$ above to see how the yellow area changes. "
   ]
  },
  {
   "cell_type": "markdown",
   "metadata": {},
   "source": [
    "## Animation of the whole process\n",
    "\n",
    "The whole process of convoluting $x(t)$ with $y(t)$, that is, computing \n",
    "\n",
    "$$\n",
    "z(t) = x(t) * y(t)= \\int_{-\\infty}^\\infty x(\\tau) y(t-\\tau) d\\tau,\n",
    "$$\n",
    "\n",
    "is shown in the animation\n",
    "below. The code that produced this animation follows. \n",
    "\n",
    "![fishy](conv_animation.gif)"
   ]
  },
  {
   "cell_type": "code",
   "execution_count": null,
   "metadata": {},
   "outputs": [],
   "source": [
    "from matplotlib import pyplot as plt\n",
    "import matplotlib.animation as animation\n",
    "\n",
    "ts=np.linspace(-3, 5, 100)\n",
    "z = np.zeros(len(ts))\n",
    "\n",
    "fig, axs = plt.subplots(2)\n",
    "\n",
    "def animate(i): \n",
    "    t = ts[i]\n",
    "\n",
    "    p1 = sym.plot(xtau, (tau, -3, 3), line_color='blue', show=False)\n",
    "    p1x,p1y = p1[0].get_data()\n",
    "\n",
    "    p2 = sym.plot(ytau.subs(tau,t-tau), (tau, -3, 3), line_color='orange', \n",
    "                    show=False)\n",
    "    p2x,p2y = p2[0].get_data()\n",
    "\n",
    "    z[i] = sym.integrate(xtau*ytau.subs(tau, t-tau), (tau, -sym.oo, sym.oo))\n",
    "\n",
    "    # for area under the curve\n",
    "    xarray = np.linspace(-3, 3, 500)\n",
    "    xval = np.array([xtau.subs(tau, val) for val in xarray], dtype=float)\n",
    "    yval = np.array([ytau.subs(tau, t-val) for val in xarray], dtype=float)\n",
    "\n",
    "    axs[0].cla()\n",
    "    axs[0].set_xlim((-3,3))\n",
    "    axs[0].text(3.2,-.03,r'$\\tau$')\n",
    "    axs[0].text(-2.5,.8,r'$t=$'+f'{t:.1f}')\n",
    "    \n",
    "    axs[0].plot(p1x,p1y, p2x, p2y) \n",
    "    axs[0].legend([r'$x(\\tau)$',r'$y(t-\\tau)$'])\n",
    "    axs[0].fill_between(xarray, np.minimum(xval, yval), color='yellow', edgecolor='none')\n",
    "\n",
    "    axs[1].set_xlim((-3,3))    \n",
    "    axs[1].set_ylim((-.03,.61))\n",
    "    axs[1].text(3.2,-.03,r'$t$')\n",
    "    axs[1].plot(ts[0:i], z[0:i],color='red')\n",
    "    axs[1].legend([r'$z(t)$'])\n",
    "\n",
    "ani = animation.FuncAnimation(fig, animate, repeat=True,\n",
    "                                    frames=len(ts) - 1, interval=50)\n",
    "\n",
    "# #To save the animation as a gif file: \n",
    "# writer = animation.PillowWriter(fps=4,\n",
    "#                                 metadata=dict(artist='384book'),\n",
    "#                                 bitrate=1800)\n",
    "# ani.save('conv_animation.gif', writer=writer)\n",
    "plt.close()"
   ]
  },
  {
   "cell_type": "markdown",
   "metadata": {},
   "source": [
    "## Convolution and LTI systems\n",
    "\n",
    "The convolution integral uniquely identifies a linear, time-invariant (LTI)\n",
    "system. Formally, let $x(t)$ be the input to the system and $h(t)$ represent the\n",
    "impulse response of the system, then the output $y(t)$ can be computed using the\n",
    "convolution integral: \n",
    "\n",
    "$$\n",
    "y(t) = x(t) * h(t)= \\int_{-\\infty}^\\infty x(\\tau) h(t-\\tau) d\\tau.\n",
    "$$\n",
    "\n",
    "Example: Consider an LTI system whose impulse response is $h(t)=\\delta(t-2)$. What would\n",
    "be the output of this system when the input is $x(t)$? \n",
    "\n",
    "The answer is \n",
    "\n",
    "$$\n",
    "y(t) = x(t) * \\delta(t-2)= \\int_{-\\infty}^\\infty x(\\tau) \\delta(t-\\tau-2) d\\tau\n",
    "= x(t-2).\n",
    "$$\n",
    "\n",
    "You can easily verify this answer using Sympy: "
   ]
  },
  {
   "cell_type": "code",
   "execution_count": null,
   "metadata": {},
   "outputs": [],
   "source": [
    "# time variable\n",
    "t = sym.symbols('t', real=True)\n",
    "\n",
    "# variable of integration\n",
    "tau = sym.symbols('tau', real=True)\n",
    "\n",
    "# input\n",
    "x = sym.Function('x')(t)\n",
    "\n",
    "# impulse response\n",
    "delta = sym.DiracDelta(t)\n",
    "h = delta.subs(t, t-2)\n",
    "\n",
    "# convolution integral\n",
    "y = sym.integrate(x.subs(t, tau)*h.subs(t, t-tau), (tau, -sym.oo, sym.oo))\n",
    "y"
   ]
  },
  {
   "cell_type": "markdown",
   "metadata": {},
   "source": [
    "Another example: Let us find the output of a discrete time LTI system whose\n",
    "impulse response is $h[n]=0.5^n u[n]$, when the input is $x[n]=u[n]$. \n",
    "\n",
    "For discrete time signals and systems, it is more convenient to use `numpy`.\n",
    "However, both $x[n]$ and $h[n]$ extend to infinity and it is challenging to both\n",
    "represent them and compute their convolution for the whole time axis. Instead,\n",
    "we will represent some finite parts of $x[n]$ and $h[n]$ with finite `numpy`\n",
    "arrays and compute their \"valid\" convolution to avoid boundary effects. Below\n",
    "you can find a piece of code that carries out this task. "
   ]
  },
  {
   "cell_type": "code",
   "execution_count": null,
   "metadata": {},
   "outputs": [],
   "source": [
    "import numpy as np\n",
    "from matplotlib import pyplot as plt\n",
    "# input\n",
    "x = np.array([0,0,0,0,0,0,0,0,0,1,1,1,1,1,1,1,1,1,1], dtype=float)\n",
    "\n",
    "# impulse response of the system\n",
    "h = np.array([0,0,0,0.5,0.5**2, 0.5**3, 0.5**4], dtype=float)\n",
    "\n",
    "# the output y\n",
    "y = np.convolve(x,h,'valid')\n",
    "y\n",
    "\n",
    "plt.stem(y);"
   ]
  },
  {
   "cell_type": "markdown",
   "metadata": {},
   "source": [
    "---\n",
    "Related content: \n",
    "\n",
    "[Explore convolution of two exponential functions.](in0402)\n",
    "\n",
    "[Explore cross-correlation and auto-correlation.](in0403)\n",
    "\n",
    "[A convolution (cross-correlation) example from machine learning.](in0404)"
   ]
  }
 ],
 "metadata": {
  "kernelspec": {
   "display_name": "Python 3",
   "language": "python",
   "name": "python3"
  },
  "language_info": {
   "codemirror_mode": {
    "name": "ipython",
    "version": 3
   },
   "file_extension": ".py",
   "mimetype": "text/x-python",
   "name": "python",
   "nbconvert_exporter": "python",
   "pygments_lexer": "ipython3",
   "version": "3.9.18"
  }
 },
 "nbformat": 4,
 "nbformat_minor": 2
}
