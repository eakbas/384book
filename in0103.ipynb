{
 "cells": [
  {
   "cell_type": "markdown",
   "metadata": {},
   "source": [
    "# Operations on the Time Variable of Signals\n",
    "\n",
    "Previously, we have seen [elementary operations on a signal](in0102). Here we will\n",
    "study how the signal changes when we apply elementary operations on the\n",
    "independent variable, that is the time variable. "
   ]
  },
  {
   "cell_type": "markdown",
   "metadata": {},
   "source": [
    "## Time shift\n",
    "\n",
    "Time shift operation for a continuous time signal replaces the\n",
    "time variable $t$  of $x(t)$ by  $t'=(t-T)$ to obtain $x(t') = x(t-T)$, where\n",
    "$T$ is the amount of shift.\n",
    "\n",
    "Let us see the effect of this operation on a unit step signal, also called as\n",
    "the Heaviside step function (after [Oliver\n",
    "Heaviside](https://en.wikipedia.org/wiki/Oliver_Heaviside)).\n",
    "\n"
   ]
  },
  {
   "cell_type": "code",
   "execution_count": null,
   "metadata": {},
   "outputs": [],
   "source": [
    "import sympy as sym\n",
    "sym.init_printing()\n",
    "\n",
    "t = sym.symbols('t', real=True)\n",
    "\n",
    "# amount of time shift:\n",
    "T = 2 \n",
    "\n",
    "# original signal. this corresponds to $u(t)$ in our book \n",
    "x = sym.Heaviside(t)\n",
    "\n",
    "# new, time-shifted signal:\n",
    "y = 0.8*x.subs(t, t-T)  # we also scaled the signal (by 0.8) so that \n",
    "                        # both x and y are visible in the plot. \n",
    "\n",
    "# plot\n",
    "px = sym.plot(x, (t, -3, 3), legend=True, label='$x(t)$', show=False);\n",
    "py = sym.plot(y, (t, -3, 3), legend=True, label=r'$y(t)$', show=False, \n",
    "              line_color='orange')\n",
    "py.extend(px)\n",
    "py.show()\n"
   ]
  },
  {
   "cell_type": "markdown",
   "metadata": {},
   "source": [
    "Note: The `subs(a,b)` operation in SymPy basically replaces all occurences of\n",
    "expression `a` with expression `b`, symbolically. This capability offers us an\n",
    "elegant way of manipulating the time variable of signals. "
   ]
  },
  {
   "cell_type": "markdown",
   "metadata": {},
   "source": [
    "**Exercise:** Change the values of $T$ above and see its effect. "
   ]
  },
  {
   "cell_type": "markdown",
   "metadata": {},
   "source": [
    "Let us look at another example, this time with a rectangular pulse signal: "
   ]
  },
  {
   "cell_type": "code",
   "execution_count": null,
   "metadata": {},
   "outputs": [],
   "source": [
    "# we obtain a rectangular pulse signal as a difference of two, time-shifted \n",
    "# unit step signals: \n",
    "x = sym.Heaviside(t + 1/2) - sym.Heaviside(t - 1/2)\n",
    "\n",
    "# let us now apply time shift: \n",
    "y = x.subs(t, t-2)\n",
    "\n",
    "# plot\n",
    "px = sym.plot(x, (t, -4, 3), legend=True, label='$x(t)=u(t+0.5)-u(t-0.5)$', \n",
    "              show=False);\n",
    "py = sym.plot(y, (t, -4, 3), legend=True, label=r'$y(t)=x(t-2)$', show=False, \n",
    "              line_color='orange')\n",
    "py.extend(px)\n",
    "py.show()\n"
   ]
  },
  {
   "cell_type": "markdown",
   "metadata": {},
   "source": [
    "**Exercise:** write code to explore the time-shift operation for discrete-time\n",
    "signals. "
   ]
  },
  {
   "cell_type": "markdown",
   "metadata": {},
   "source": [
    "\n",
    "## Time reverse\n",
    "\n",
    "Time reverse operation of a continuous time signal changes the sign of the time\n",
    "variable $t$ of the signal, $x(t)$, by $t'=-t$ to obtain $x(t') =x(-t)$. This\n",
    "opertation basically flips the signal along the horizontal axis. Let us see its\n",
    "effect on a unit step signal: "
   ]
  },
  {
   "cell_type": "code",
   "execution_count": null,
   "metadata": {},
   "outputs": [],
   "source": [
    "# let us define a unit step signal: \n",
    "x = sym.Heaviside(t-1)\n",
    "\n",
    "# let us now apply time reverse: \n",
    "y = x.subs(t, -t)\n",
    "\n",
    "# plot\n",
    "px = sym.plot(x, (t, -5, 3), legend=True, label='$x(t)=u(t-1)$', \n",
    "              show=False);\n",
    "py = sym.plot(y, (t, -5, 3), legend=True, label=r'$y(t)=x(-t)$', show=False, \n",
    "              line_color='orange')\n",
    "py.extend(px)\n",
    "py.show()\n"
   ]
  },
  {
   "cell_type": "markdown",
   "metadata": {},
   "source": [
    "Let us look at another example, this time with a rectangular pulse: "
   ]
  },
  {
   "cell_type": "code",
   "execution_count": null,
   "metadata": {},
   "outputs": [],
   "source": [
    "# let us start with a time-shifted rectangular pulse: \n",
    "x = sym.Heaviside(t-0.5) - sym.Heaviside(t - 1.5)\n",
    "\n",
    "# let us now apply time reverse: \n",
    "y = x.subs(t, -t)\n",
    "\n",
    "# plot\n",
    "px = sym.plot(x, (t, -5, 3), legend=True, label='$x(t)=u(t-0.5)-u(t-1.5)$', \n",
    "              show=False);\n",
    "py = sym.plot(y, (t, -5, 3), legend=True, label=r'$y(t)=x(-t)$', show=False, \n",
    "              line_color='orange')\n",
    "py.extend(px)\n",
    "py.show()\n"
   ]
  },
  {
   "cell_type": "markdown",
   "metadata": {},
   "source": [
    "\n",
    "## Time scale\n",
    "\n",
    "Time scale operation of a continuous time function replaces the time variable,\n",
    "$t$ of $x(t)$  by $t' = a t$  to obtain $x(t') =x(at)$, where  $a$ is a time\n",
    "scale parameter.\n",
    "\n",
    "Let us apply it to a periodic continuous time signal: \n"
   ]
  },
  {
   "cell_type": "code",
   "execution_count": null,
   "metadata": {},
   "outputs": [],
   "source": [
    "a = 1.5\n",
    "\n",
    "x = sym.cos(t)\n",
    "y = x.subs(t,a*t)\n",
    "\n",
    "# plot\n",
    "px = sym.plot(x, (t, -10, 10), legend=True, label='$x(t)=cos(t)$', show=False);\n",
    "py = sym.plot(y, (t, -10, 10), legend=True, label=r'$y(t)=x(0.5t)$', show=False, \n",
    "              line_color='orange')\n",
    "py.extend(px)\n",
    "py.show()\n"
   ]
  },
  {
   "cell_type": "markdown",
   "metadata": {},
   "source": [
    "Play with the value of `a` above. As you will see, values larger than $1$\n",
    "squeezes the signal, whereas values less than $1$ (and greater than $0$) stretches the signal.\n",
    "\n",
    "Also,note that the time reverse operation is a special case of time scaling where $a=-1$. "
   ]
  },
  {
   "cell_type": "markdown",
   "metadata": {},
   "source": [
    "Let us look at another example below. Here we will apply time scaling to a rectangular\n",
    "pulse. "
   ]
  },
  {
   "cell_type": "code",
   "execution_count": null,
   "metadata": {},
   "outputs": [],
   "source": [
    "# rectangular pulse: \n",
    "x = sym.Heaviside(t + 1/2) - sym.Heaviside(t - 1/2)\n",
    "\n",
    "# let us now apply time scaling: \n",
    "a = 3\n",
    "y = 0.7*x.subs(t, a*t) # we scale the signal so that it can be seen better\n",
    "\n",
    "# another one: \n",
    "b = 1/3\n",
    "z = 0.9*x.subs(t, b*t) \n",
    "\n",
    "# plot\n",
    "px = sym.plot(x, (t, -4, 3), legend=True, label='$x(t)=u(t+0.5)-u(t-0.5)$', \n",
    "              show=False);\n",
    "py = sym.plot(y, (t, -4, 3), legend=True, label=r'$y(t)=0.7*x(3t)$', show=False, \n",
    "              line_color='orange')\n",
    "pz = sym.plot(z, (t, -4, 3), legend=True, label=r'$z(t)=0.9*x(t/3)$', show=False, \n",
    "              line_color='green')\n",
    "pz.extend(py)\n",
    "pz.extend(px)\n",
    "pz.show()"
   ]
  },
  {
   "cell_type": "markdown",
   "metadata": {},
   "source": [
    "## Time scale and shift\n",
    "\n",
    "We can apply time scale and time shift operations simultaneously to obtain\n",
    "$x(at+b)$ from $x(t)$. \n",
    "\n",
    "An example follows. "
   ]
  },
  {
   "cell_type": "code",
   "execution_count": null,
   "metadata": {},
   "outputs": [],
   "source": [
    "# let us create a rectangular pulse: \n",
    "rect = sym.Heaviside(t + 1/2) - sym.Heaviside(t - 1/2)\n",
    "\n",
    "# then, let's create another signal as a combination of two rectangular pulses: \n",
    "x = rect + 2*rect.subs(t, t-1)\n",
    "\n",
    "# time scale & shift applied together: \n",
    "a = 4\n",
    "b = 5\n",
    "y = x.subs(t, a*t+b)\n",
    "\n",
    "# plot\n",
    "px = sym.plot(x, (t, -3, 3), legend=True, label='$x(t)$', show=False);\n",
    "py = sym.plot(y, (t, -3, 3), legend=True, label=r'$y(t)$', show=False, \n",
    "              line_color='orange')\n",
    "py.extend(px)\n",
    "py.show()"
   ]
  },
  {
   "cell_type": "markdown",
   "metadata": {},
   "source": [
    "Notice how the signal $x(t)$ gets squeezed and shifted at the same time. Play\n",
    "with the values `a` and `b` and see their effect. We especially encourage to try\n",
    "negative values for `a` to obtain a time reverse effect. "
   ]
  },
  {
   "cell_type": "markdown",
   "metadata": {},
   "source": [
    "Finally, let us look at an example where we apply time scale and shift\n",
    "operations to a discrete time signal. \n",
    "\n",
    "In discrete time signals, the time (independent) variable is by definition an\n",
    "integer. And, when we apply time scaling, the time variable might become a\n",
    "non-integer number. For such cases, it is conventional to set the value of the\n",
    "signal to zero. One possible implementation to achieve this is given below.  "
   ]
  },
  {
   "cell_type": "code",
   "execution_count": null,
   "metadata": {},
   "outputs": [],
   "source": [
    "import numpy as np \n",
    "from matplotlib import pyplot as plt\n",
    "\n",
    "# define the time variable. \n",
    "n = np.arange(-10,10, 1.0)\n",
    "\n",
    "# define signal x[n]\n",
    "def x(n):\n",
    "    # if the time variable is not an integer, return 0\n",
    "    if not n==np.rint(n):\n",
    "        print(\"argument not integer!\")\n",
    "        return 0\n",
    "    \n",
    "    return 1*np.logical_and(n>=-2,n<=2)\n",
    "\n",
    "# the function above takes a scalar. for it to work on a vector of elements, we\n",
    "# should vectorize is: \n",
    "vx = np.vectorize(x)\n",
    "\n",
    "# apply time scale and shift to x[n] to obtain a new signal \n",
    "# y[n] = 0.5*x[0.5*(n-2)]\n",
    "def y(n): \n",
    "    a = 0.5\n",
    "    b = -3\n",
    "    return .5*vx(a*(n+b))\n",
    "\n",
    "plt.stem(n, vx(n), linefmt='black')\n",
    "plt.stem(n, y(n), linefmt='orange');\n",
    "\n",
    "plt.legend((r'$x[n]$', r'$y[n]$'));"
   ]
  },
  {
   "cell_type": "markdown",
   "metadata": {},
   "source": [
    "Here we scaled the value of $y[n]$ by $0.5$, so that both signals are visible. \n",
    "\n",
    "Try different values for `a` and `b` above, which define the new signal $y[n]$.\n",
    "\n",
    "For $|a|<1$, the signal is expanded by inserting zero values in between the time\n",
    "instances of the original signal. This opetation is called **expansion**. \n",
    "\n",
    "For $|a|>1$, the signal is squeezed by  discarding the samples of the original\n",
    "signal between $an$ and $a(n − 1)$ time instances, for all $n$. This operation\n",
    "is called **decimation**. You can obtain an example for decimation by setting\n",
    "`a` larger than 1 above. "
   ]
  },
  {
   "cell_type": "code",
   "execution_count": null,
   "metadata": {},
   "outputs": [],
   "source": [
    "# apply time scale and shift to x[n] to obtain a new signal \n",
    "def y(n): \n",
    "    a = 2\n",
    "    b = -5\n",
    "    return .5*vx(a*(n+b))\n",
    "\n",
    "plt.stem(n, vx(n), linefmt='black')\n",
    "plt.stem(n, y(n), linefmt='orange');\n",
    "\n",
    "plt.legend((r'$x[n]$', r'$y[n]$'));"
   ]
  },
  {
   "cell_type": "markdown",
   "metadata": {},
   "source": [
    "---\n",
    "Related content: \n",
    "\n",
    "[Explore different types of signals.](in0101)\n",
    "\n",
    "[Explore elementary operations on signals.](in0102)\t\n",
    "\n",
    "[Decompose signals into their even and odd parts.](in0104)"
   ]
  }
 ],
 "metadata": {
  "kernelspec": {
   "display_name": "Python 3",
   "language": "python",
   "name": "python3"
  },
  "language_info": {
   "codemirror_mode": {
    "name": "ipython",
    "version": 3
   },
   "file_extension": ".py",
   "mimetype": "text/x-python",
   "name": "python",
   "nbconvert_exporter": "python",
   "pygments_lexer": "ipython3",
   "version": "3.9.18"
  }
 },
 "nbformat": 4,
 "nbformat_minor": 2
}
