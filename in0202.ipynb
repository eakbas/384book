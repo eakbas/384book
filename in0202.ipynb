{
 "cells": [
  {
   "cell_type": "markdown",
   "metadata": {},
   "source": [
    "# Unit impulse and unit step functions\n",
    "\n",
    "Unit impulse and unit step functions are two basic building blocks, using which\n",
    "you can create other functions. In the following, we explore these functions and\n",
    "their relations to each other. \n",
    "\n",
    "## Continuous time unit impulse\n",
    "\n",
    "The continuous time unit impulse is defined as follows: \n",
    "\n",
    "$$\n",
    "\\delta(t) =  \\lim_{\\Delta \\to 0} \\delta_{\\Delta}(t), \n",
    "$$ \n",
    "\n",
    "where \n",
    "\n",
    "$$\n",
    "\\delta_{\\Delta}(t)= \\begin{cases} \\frac{1}{\\Delta} & \\text{for $0 < t <\n",
    "\\Delta$,}\\\\ 0 & \\text{otherwise.} \n",
    "\\end{cases}\n",
    "$$\n",
    "\n",
    "This function is also called the [Dirac delta\n",
    "function](https://en.wikipedia.org/wiki/Dirac_delta_function). Sympy provides an\n",
    "implementation for it, namely `DiracDelta`:  \n"
   ]
  },
  {
   "cell_type": "code",
   "execution_count": null,
   "metadata": {},
   "outputs": [],
   "source": [
    "import sympy as sym\n",
    "sym.init_printing()\n",
    "\n",
    "t = sym.symbols('t', real=True)\n",
    "\n",
    "delta = sym.DiracDelta(t)\n",
    "delta"
   ]
  },
  {
   "cell_type": "markdown",
   "metadata": {},
   "source": [
    "\n",
    "We can use this function to check\n",
    "the properties of  the unit impulse function.\n",
    "\n",
    "The area under the unit impulse  function is $1$. The following line of code\n",
    "implements $\\int_{-\\infty}^\\infty \\delta(t) dt$. "
   ]
  },
  {
   "cell_type": "code",
   "execution_count": null,
   "metadata": {},
   "outputs": [],
   "source": [
    "sym.integrate(delta, (t, -sym.oo, sym.oo))"
   ]
  },
  {
   "cell_type": "markdown",
   "metadata": {},
   "source": [
    "When we multiply the unit impulse with a function $x(t)$ and integrate, we get\n",
    "$x(0)$: \n",
    "\n",
    "$$\n",
    "\\int_{-\\infty}^{\\infty} x(t) \\delta(t)dt = x(0). \n",
    "$$\n",
    "\n",
    "You can check this with "
   ]
  },
  {
   "cell_type": "code",
   "execution_count": null,
   "metadata": {},
   "outputs": [],
   "source": [
    "x = sym.Function('x')(t)\n",
    "sym.integrate(x*delta, (t, -sym.oo, sym.oo))"
   ]
  },
  {
   "cell_type": "markdown",
   "metadata": {},
   "source": [
    "Another nice property of the unit impulse function is the convolution property: \n",
    "\n",
    "$$\n",
    "x(t) = \\int_{-\\infty}^{\\infty} x(\\tau) \\delta(t-\\tau) d\\tau.\n",
    "$$\n",
    "\n",
    "With Sympy, you can take this convolution integral as follows: "
   ]
  },
  {
   "cell_type": "code",
   "execution_count": null,
   "metadata": {},
   "outputs": [],
   "source": [
    "tau = sym.symbols('tau', real=True)\n",
    "sym.integrate(x.subs(t, tau)*delta.subs(t,t-tau), (tau, -sym.oo, sym.oo))"
   ]
  },
  {
   "cell_type": "markdown",
   "metadata": {},
   "source": [
    "## Continuous time unit step \n",
    "\n",
    "The continuous time unit step function is defined as \n",
    "\n",
    "$$\n",
    "u(t)=\\begin{cases} 1, & \\text{for $t \\geq 0$,}\n",
    " \\\\ 0, & \\text{otherwise.}\\end{cases}\n",
    "$$\n",
    "\n",
    "It is also called the [Heaviside step\n",
    "function](https://en.wikipedia.org/wiki/Heaviside_step_function).  Sympy\n",
    "provides this function: "
   ]
  },
  {
   "cell_type": "code",
   "execution_count": null,
   "metadata": {},
   "outputs": [],
   "source": [
    "u = sym.Heaviside(t)\n",
    "u"
   ]
  },
  {
   "cell_type": "markdown",
   "metadata": {},
   "source": [
    "Sympy uses $\\theta(t)$ to represent the unit step. Let us plot the unit step. "
   ]
  },
  {
   "cell_type": "code",
   "execution_count": null,
   "metadata": {},
   "outputs": [],
   "source": [
    "sym.plot(u, (t, -3, 3), ylim=[-0.1, 1.1], ylabel=r'$u(t)$');"
   ]
  },
  {
   "cell_type": "markdown",
   "metadata": {},
   "source": [
    "You can easily obtain a rectangular pulse function using two step functions: "
   ]
  },
  {
   "cell_type": "code",
   "execution_count": null,
   "metadata": {},
   "outputs": [],
   "source": [
    "rect = sym.Heaviside(t+1/2) - sym.Heaviside(t-1/2)\n",
    "sym.plot(rect, (t, -1.2, 1.2), ylim=[-0.1, 1.3], ylabel=r'$x(t)$');"
   ]
  },
  {
   "cell_type": "markdown",
   "metadata": {},
   "source": [
    "## Relation between the CT unit impulse and the CT unit step\n",
    "\n",
    "We can obtain the unit impulse by differentiating the unit step: \n",
    "\n",
    "$$\n",
    "\\delta(t) = \\frac{d u(t)}{dt}.   \n",
    "$$\n",
    "\n",
    "This can be verified using Sympy as follows: "
   ]
  },
  {
   "cell_type": "code",
   "execution_count": null,
   "metadata": {},
   "outputs": [],
   "source": [
    "sym.diff(sym.Heaviside(t), t)"
   ]
  },
  {
   "cell_type": "markdown",
   "metadata": {},
   "source": [
    "In the reverse direction, we can obtain the unit step from the unit impulse by\n",
    "integrating it: \n",
    "\n",
    "$$\n",
    "u(t) = \\int_{-\\infty}^t \\delta(\\tau) d\\tau. \n",
    "$$\n",
    "\n",
    "To verify this with Sympy, the following line of code should work. "
   ]
  },
  {
   "cell_type": "code",
   "execution_count": null,
   "metadata": {},
   "outputs": [],
   "source": [
    "sym.integrate(sym.DiracDelta(t), (t, -sym.oo, t))"
   ]
  },
  {
   "cell_type": "markdown",
   "metadata": {},
   "source": [
    "Remember, Sympy uses $\\theta(t)$ to represent the unit step, whereas we use the \n",
    "$u(t)$ notation. "
   ]
  },
  {
   "cell_type": "markdown",
   "metadata": {},
   "source": [
    "We can use a unit step function or a rectangular pulse to \"select\" a part of\n",
    "another signal, by multiplying them. An example follows. "
   ]
  },
  {
   "cell_type": "code",
   "execution_count": null,
   "metadata": {},
   "outputs": [],
   "source": [
    "# let us mulptiply a cosine signal with a rectangular pulse: \n",
    "rect = sym.Heaviside(t+1) - sym.Heaviside(t-1)\n",
    "y = sym.cos(t)*rect \n",
    "sym.plot(y, (t, -2, 2), ylim=[-0.1, 1.3], ylabel=r'$y(t)$');"
   ]
  },
  {
   "cell_type": "markdown",
   "metadata": {},
   "source": [
    "## Discrete time unit impulse \n",
    "\n",
    "The discrete time unit impulse function is defined as follows:\n",
    "\n",
    "$$\n",
    "\\delta[n]= \\begin{cases} 1, & \\text{for $n = 0$,}\\\\ 0, &\n",
    "\\text{otherwise.}\\end{cases} \n",
    "$$\n",
    "\n",
    "Let us create such a signal and plot it: "
   ]
  },
  {
   "cell_type": "code",
   "execution_count": null,
   "metadata": {},
   "outputs": [],
   "source": [
    "import numpy as np\n",
    "from matplotlib import pyplot as plt \n",
    "\n",
    "# define the discrete time unit impulse function\n",
    "def delta(n): \n",
    "    return np.where(n==0.0, 1.0, 0.0) \n",
    "\n",
    "# plot the signal in [-3,3]\n",
    "n = np.arange(-3,4,1)\n",
    "plt.stem(n, delta(n))\n",
    "plt.ylabel('$\\delta[n]$');"
   ]
  },
  {
   "cell_type": "markdown",
   "metadata": {},
   "source": [
    "You can plot shifted versions of it: "
   ]
  },
  {
   "cell_type": "code",
   "execution_count": null,
   "metadata": {},
   "outputs": [],
   "source": [
    "a = 2 # change this value to see its effect \n",
    "plt.stem(n, delta(n-a));\n"
   ]
  },
  {
   "cell_type": "markdown",
   "metadata": {},
   "source": [
    "When we multiply a signal with a unit impulse, it \"sifts\" the corresponding\n",
    "component, that is, $x[n]\\cdot \\delta[n-k]$ equals to $x[k]$ because $\\delta[n-k]$\n",
    "would be non-zero only at $n=k$. \n",
    "\n",
    "Building upon this property, we can express any discrete time signal $x[n]$\n",
    "using the convolution sum with $\\delta[n]$ as follows: \n",
    "\n",
    "$$\n",
    "x[n]*\\delta[n] = x[n] = \\sum_{k=-\\infty}^{\\infty} x[k]\\cdot \\delta[n-k]. \n",
    "$$\n",
    "\n",
    "We can test this using numpy's convolution: "
   ]
  },
  {
   "cell_type": "code",
   "execution_count": null,
   "metadata": {},
   "outputs": [],
   "source": [
    "# let's create a discrete time signal by specifying its values for n=0 through\n",
    "# n=4. For all other values of n, the signal is zero. \n",
    "x = [0.1, 0.7, -.2, 0.2, 0.5]\n",
    "\n",
    "# unit impulse. delta[0] = 1. For all other n, delta is zero\n",
    "delta = [1]\n",
    "\n",
    "y = np.convolve(x, delta)\n",
    "print(\"x: \" , x)\n",
    "print(\"convolution result: \", y)"
   ]
  },
  {
   "cell_type": "markdown",
   "metadata": {},
   "source": [
    "## Discrete time unit step\n",
    "\n",
    "Discrete time unit step function is analytically defined as follows: \n",
    "\n",
    "$$\n",
    "\t u[n]=\\begin{cases} 1 & \\text{for $n \\geq 0$}\\\\ 0, & \\text{otherwise.}\n",
    "\\end{cases} \n",
    "$$\n",
    "\n",
    "Let us create and plot it. "
   ]
  },
  {
   "cell_type": "code",
   "execution_count": null,
   "metadata": {},
   "outputs": [],
   "source": [
    "# define the discrete time unit step function\n",
    "def u(n): \n",
    "    return np.where(n>0.0, 1.0, 0.0) \n",
    "\n",
    "# plot the signal in [-5,5]\n",
    "n = np.arange(-5,6,1)\n",
    "plt.stem(n, u(n))\n",
    "plt.ylabel('$u[n]$');"
   ]
  },
  {
   "cell_type": "markdown",
   "metadata": {},
   "source": [
    "Similar to the continuous time case, we can create a rectangular pulse by\n",
    "subtracting a time-shifted unit step from another time-shifted\n",
    "unit step: "
   ]
  },
  {
   "cell_type": "code",
   "execution_count": null,
   "metadata": {},
   "outputs": [],
   "source": [
    "def rect(n): \n",
    "    return u(n+2)-u(n-2)\n",
    "\n",
    "# plot the signal in [-5,5]\n",
    "n = np.arange(-5,6,1)\n",
    "plt.stem(n, rect(n))\n",
    "plt.ylabel('$u[n]$');"
   ]
  },
  {
   "cell_type": "markdown",
   "metadata": {},
   "source": [
    "## Relation between the DT unit impulse and the DT unit step\n",
    "\n",
    "We can obtain the unit step from the unit impulse through summation and the\n",
    "other way around through difference: \n",
    "\n",
    "$$\n",
    "u[n]=\\sum\\limits_{k=0}^{\\infty} \\delta[n-k]\n",
    "$$\n",
    "\n",
    "$$\n",
    "\\delta[n] = u[n] - u[n-1]\n",
    "$$ \n",
    "\n",
    "Let us write code to show these two properties. "
   ]
  },
  {
   "cell_type": "code",
   "execution_count": null,
   "metadata": {},
   "outputs": [],
   "source": [
    "# define the discrete time unit impulse function\n",
    "def delta(n): \n",
    "    return np.where(n==0.0, 1.0, 0.0) \n",
    "\n",
    "# sum the unit impulse\n",
    "def sum_delta(n): \n",
    "    s = 0;\n",
    "    for k in range(10): # theoretically this summation should go up to \n",
    "                        # infinity but we truncate it at some finite value for \n",
    "                        # practical purposes. \n",
    "        s += delta(n-k)\n",
    "    return s\n",
    "\n",
    "\n",
    "# plot the signal in [-5,5]\n",
    "n = np.arange(-5,6,1)\n",
    "plt.stem(n, sum_delta(n))\n",
    "plt.ylabel('sum_delta[n]');"
   ]
  },
  {
   "cell_type": "code",
   "execution_count": null,
   "metadata": {},
   "outputs": [],
   "source": [
    "# define the discrete time unit step function\n",
    "def u(n): \n",
    "    return np.where(n>0.0, 1.0, 0.0) \n",
    "\n",
    "# the unit step is nothing but: \n",
    "def diff_u(n): \n",
    "    return u(n)-u(n-1)\n",
    "\n",
    "# plot the signal in [-5,5]\n",
    "n = np.arange(-5,6,1)\n",
    "plt.stem(n, diff_u(n))\n",
    "plt.ylabel('diff_u[n]');"
   ]
  }
 ],
 "metadata": {
  "kernelspec": {
   "display_name": "Python 3",
   "language": "python",
   "name": "python3"
  },
  "language_info": {
   "codemirror_mode": {
    "name": "ipython",
    "version": 3
   },
   "file_extension": ".py",
   "mimetype": "text/x-python",
   "name": "python",
   "nbconvert_exporter": "python",
   "pygments_lexer": "ipython3",
   "version": "3.9.18"
  }
 },
 "nbformat": 4,
 "nbformat_minor": 2
}
