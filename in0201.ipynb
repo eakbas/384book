{
 "cells": [
  {
   "attachments": {},
   "cell_type": "markdown",
   "metadata": {},
   "source": [
    "# The complex exponential signal\n",
    "\n",
    "As we explained in Chapter 2, the exponential function, $C e^{\\alpha t}$, is one\n",
    "of the most important functions for signals and systems. When the $\\alpha$ is\n",
    "imaginary, we call this function **the complex exponential function**."
   ]
  },
  {
   "attachments": {},
   "cell_type": "markdown",
   "metadata": {},
   "source": [
    "## Continuous time complex exponential signal\n",
    "\n",
    "Consider the continuous time exponential signal $x(t) = e^{j \\omega t}$. Using\n",
    "Euler's formula, we have\n",
    "\n",
    "$x(t) = e^{j\\omega t} = \\cos(\\omega t) + j \\sin(\\omega t)$. \n",
    "\n",
    "Note that $x(t)$ is periodic for any value of $\\omega$, as both the real and the\n",
    "imaginary components are periodic. As $\\omega$ is increased, the frequency of\n",
    "$x(t)$ will increase. \n",
    "\n",
    "Let us examine its behavior. We will focus only on the real part for ease of\n",
    "visualization but the imaginary part behaves similarly. "
   ]
  },
  {
   "cell_type": "code",
   "execution_count": null,
   "metadata": {},
   "outputs": [],
   "source": [
    "import sympy as sym\n",
    "\n",
    "t = sym.symbols('t', real=True)\n",
    "\n",
    "# the signal cos(omega t) for different omega values: \n",
    "x = sym.cos(t)\n",
    "y = sym.cos(2*t)\n",
    "z = sym.cos(0.5*t)\n",
    "\n",
    "# plot\n",
    "px = sym.plot(x, (t, -5, 5), legend=True, label='$cos(t)$', show=False);\n",
    "py = sym.plot(y, (t, -5, 5), legend=True, label=r'cos(2t)$', show=False, \n",
    "              line_color='orange')\n",
    "pz = sym.plot(z, (t, -5, 5), legend=True, label=r'$cost(0.5t)$', show=False, \n",
    "              line_color='green')\n",
    "py.extend(px)\n",
    "pz.extend(py)\n",
    "pz.show()"
   ]
  },
  {
   "cell_type": "markdown",
   "metadata": {},
   "source": [
    "If you run the code below, it will create a slider using which you can change\n",
    "the value of omega using your mouse. It facilitates seeing how the plot changes\n",
    "with different values of omega. "
   ]
  },
  {
   "cell_type": "code",
   "execution_count": null,
   "metadata": {},
   "outputs": [],
   "source": [
    "import matplotlib.pyplot as plt\n",
    "import numpy as np\n",
    "from ipywidgets import interact\n",
    "\n",
    "# continuous time signal \n",
    "def plot_cos(omega):\n",
    "  t = np.arange(0,4*np.pi, .001)\n",
    "  x = np.cos(omega*t)\n",
    "  plt.plot(t,x)\n",
    "  plt.xlabel('t')\n",
    "  plt.ylabel('cos($\\omega$ t)')\n",
    "  plt.show()\n",
    "\n",
    "interact(plot_cos, omega=(0,10,.1));"
   ]
  },
  {
   "attachments": {},
   "cell_type": "markdown",
   "metadata": {},
   "source": [
    "## Discrete time complex exponential signal\n",
    "\n",
    "As we mentioned above, the CT exponential signal $x(t) = e^{j\\omega t}$ is\n",
    "**periodic for any value of  $\\omega$** and as **$\\omega$ is increased, the frequency\n",
    "of $x(t)$ will increase**. \n",
    "\n",
    "However, for the DT signal $x[n] = e^{j \\omega n}$, the situation is different. \n",
    "\n",
    "Using the Euler's formula, we can write \n",
    "\n",
    "$x[n] = e^{j\\omega n} = \\cos(\\omega n) + j \\sin(\\omega n).$ \n",
    "\n",
    "Now let us focus on the real part of $x[n]$; the imaginary part behaves similarly.\n",
    "Let $y[n]=\\cos(\\omega n)$. For $y[n]$ to \n",
    "be periodic, $y[n]$ should be equal to $y[n+N]$ for integer and positive $N$.\n",
    "For  $y[n+N] = \\cos( \\omega n + \\omega N)$  to be equal to $y[n]$, we need\n",
    "$\\omega N$ to be an integer multiple of $2\\pi$, since \n",
    "$\\cos$ is periodic with $2\\pi$. \n",
    "\n",
    "Then, we can write the condition for $y[n]$ to\n",
    "be periodic as  follows: \n",
    "\n",
    "$\\frac{N}{k} = \\frac{2\\pi}{\\omega}$ where $N$, $k$ should be integers, or,\n",
    "equivalently, $\\frac{2\\pi}{\\omega}$ must be a rational number. \n",
    "\n",
    "\n",
    "\n",
    "In summary,  **the frequency of $x[n]$ will not always increase as $\\omega$ is\n",
    "increased, and for some values of $\\omega$, the signal will not be periodic**.  "
   ]
  },
  {
   "cell_type": "markdown",
   "metadata": {},
   "source": [
    "Now let us inspect whether $y[n]=\\cos(\\omega n)$ is periodic for two different\n",
    "values of $\\omega = \\{1, \\frac{\\pi}{8}\\}$. "
   ]
  },
  {
   "cell_type": "code",
   "execution_count": null,
   "metadata": {},
   "outputs": [],
   "source": [
    "import numpy as np\n",
    "import matplotlib.pyplot as plt\n",
    "\n",
    "n = np.arange(-20, 20, 1)\n",
    "\n",
    "# the signal cos(omega n)\n",
    "omega = 1\n",
    "x = np.cos(omega*n)\n",
    "\n",
    "# plot\n",
    "plt.stem(n,x, linefmt='blue');"
   ]
  },
  {
   "cell_type": "markdown",
   "metadata": {},
   "source": [
    "While the plot shows a roughly repeating pattern, it is not possible to draw a\n",
    "certain conclusion from the plot. We should check the condition \n",
    "\n",
    "$\\frac{N}{k} = \\frac{2\\pi}{\\omega}$. \n",
    "\n",
    "When $\\omega=1$, $\\frac{N}{k}$ is an irrational number because $\\pi$ is\n",
    "irrational. So, $y[n]=\\cos(n)$ is not a periodic signal.\n",
    "\n",
    "Let us now inspect $y[n]$ for $\\omega = \\frac{\\pi}{8}$. "
   ]
  },
  {
   "cell_type": "code",
   "execution_count": null,
   "metadata": {},
   "outputs": [],
   "source": [
    "# the signal cos(omega n)\n",
    "omega = np.pi/8\n",
    "x = np.cos(omega*n)\n",
    "\n",
    "# plot\n",
    "plt.stem(n,x, linefmt='blue');"
   ]
  },
  {
   "cell_type": "markdown",
   "metadata": {},
   "source": [
    "This time the plots looks periodic but again, we should the check periodicity\n",
    "condition: \n",
    "\n",
    "$\\frac{N}{k} = \\frac{2\\pi}{\\omega} = 16$, which is a rational number, so,\n",
    "$y[n]=\\cos(\\frac{\\pi}{8}n)$ is periodic.  "
   ]
  },
  {
   "cell_type": "markdown",
   "metadata": {},
   "source": [
    "The following piece of code will let you change omega interactively (through a\n",
    "slider). Observe the behavior of the signal and compare it to that of the CT\n",
    "counterpart above. (Hint: clicking on the slider and then using the arrow keys\n",
    "on your keyboard allows minimal increments for omega.)"
   ]
  },
  {
   "cell_type": "code",
   "execution_count": null,
   "metadata": {},
   "outputs": [],
   "source": [
    "# discrete time signal \n",
    "def plot_cos(omega):\n",
    "  n = np.arange(-20,20, 1)\n",
    "  x = np.cos(omega*n)\n",
    "  plt.stem(n,x);\n",
    "  plt.xlabel('n')\n",
    "  plt.ylabel('cos($\\omega$ n)')\n",
    "  plt.show()\n",
    "\n",
    "interact(plot_cos, omega=(0,100,.01));"
   ]
  }
 ],
 "metadata": {
  "kernelspec": {
   "display_name": "Python 3",
   "language": "python",
   "name": "python3"
  },
  "language_info": {
   "codemirror_mode": {
    "name": "ipython",
    "version": 3
   },
   "file_extension": ".py",
   "mimetype": "text/x-python",
   "name": "python",
   "nbconvert_exporter": "python",
   "pygments_lexer": "ipython3",
   "version": "3.9.18"
  },
  "orig_nbformat": 4
 },
 "nbformat": 4,
 "nbformat_minor": 2
}
