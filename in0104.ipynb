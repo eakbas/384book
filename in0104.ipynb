{
 "cells": [
  {
   "cell_type": "markdown",
   "metadata": {},
   "source": [
    "# Decompose a signal into its even and odd components\n",
    "\n",
    "In Section 1.5.2 of our book, we had a look at even and odd signals. \n",
    "\n",
    "Any signal $x(t)$ can be decomposed into an even and an odd signal as follows. \n",
    "\n",
    "$x(t) = \\frac{1}{2}x(t) + \\frac{1}{2}x(-t) + \\frac{1}{2}x(t) -\n",
    "\\frac{1}{2}x(-t)$. \n",
    "\n",
    "Let us call the first two-terms on the right hand side as $x_e(t)$: \n",
    "\n",
    "$x_e(t) = \\frac{1}{2}x(t) + \\frac{1}{2}x(-t)$. \n",
    "\n",
    "$x_e(t)$ is an even function.The proof is left to the reader. \n",
    "\n",
    "Let us call the remaining two terms as $x_o(t)$, which is an odd function: \n",
    "\n",
    "$x_o(t) = \\frac{1}{2}x(t) -\\frac{1}{2}x(-t)$.\n",
    "\n",
    "With these definitions, decomposing a given signal into its even and odd parts\n",
    "becomes straightforward as shown below."
   ]
  },
  {
   "cell_type": "code",
   "execution_count": 3,
   "metadata": {},
   "outputs": [],
   "source": [
    "import sympy as sym\n",
    "sym.init_printing()\n",
    "\n",
    "t = sym.symbols('t', real=True)\n",
    "\n",
    "def decompose(x):\n",
    "    # apply time-reverse to x(t): \n",
    "    xrev = x.subs(t, -t)\n",
    "\n",
    "    xe = 0.5*x + 0.5*xrev\n",
    "    xo = 0.5*x - 0.5*xrev\n",
    "\n",
    "    return xe, xo"
   ]
  },
  {
   "cell_type": "markdown",
   "metadata": {},
   "source": [
    "Let us now apply this decomposition to the following signal: \n",
    "\n",
    "$x(t) = \\cos(t+\\frac{\\pi}{3})$."
   ]
  },
  {
   "cell_type": "code",
   "execution_count": null,
   "metadata": {},
   "outputs": [],
   "source": [
    "# the signal\n",
    "x = sym.cos(t+sym.pi/3)\n",
    "\n",
    "# decompose it\n",
    "xe, xo = decompose(x)\n",
    "\n",
    "# plot the original signal\n",
    "px = sym.plot(x, (t, -4, 4), legend=True, label='$x(t)=cos(t+\\pi/3)$', \n",
    "              show=False);\n",
    "px.show()\n",
    "\n",
    "# on a separate plot, show even and odd components\n",
    "px = sym.plot(xe, (t, -5, 3), legend=True, label='$x_e(t)$', \n",
    "              show=False, line_color='green');\n",
    "py = sym.plot(xo, (t, -5, 3), legend=True, label=r'$x_o(t)$', show=False, \n",
    "              line_color='orange')\n",
    "py.extend(px)\n",
    "py.show()"
   ]
  },
  {
   "cell_type": "markdown",
   "metadata": {},
   "source": [
    "**Exercise:** Write a function to decompose a given discrete time signal into\n",
    "its even and odd components. "
   ]
  },
  {
   "cell_type": "markdown",
   "metadata": {},
   "source": [
    "---\n",
    "Related content: \n",
    "\n",
    "[Explore elementary operations on signals.](in0102)\t\n",
    "\n",
    "[Explore operations on the time variable of signals.](in0103)"
   ]
  }
 ],
 "metadata": {
  "kernelspec": {
   "display_name": "Python 3",
   "language": "python",
   "name": "python3"
  },
  "language_info": {
   "codemirror_mode": {
    "name": "ipython",
    "version": 3
   },
   "file_extension": ".py",
   "mimetype": "text/x-python",
   "name": "python",
   "nbconvert_exporter": "python",
   "pygments_lexer": "ipython3",
   "version": "3.9.18"
  }
 },
 "nbformat": 4,
 "nbformat_minor": 2
}
